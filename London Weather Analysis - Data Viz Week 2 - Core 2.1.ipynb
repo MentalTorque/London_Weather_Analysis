{
 "cells": [
  {
   "cell_type": "markdown",
   "id": "26b32228",
   "metadata": {},
   "source": [
    "# London Weather Analysis - Data Viz Week 2  - Core 2.1"
   ]
  },
  {
   "cell_type": "markdown",
   "id": "035ab831",
   "metadata": {},
   "source": [
    "## Run Imports and Load Data"
   ]
  },
  {
   "cell_type": "code",
   "execution_count": 2,
   "id": "a17e51dd",
   "metadata": {
    "ExecuteTime": {
     "end_time": "2023-02-04T15:20:53.096430Z",
     "start_time": "2023-02-04T15:20:51.203143Z"
    }
   },
   "outputs": [
    {
     "data": {
      "text/html": [
       "<div>\n",
       "<style scoped>\n",
       "    .dataframe tbody tr th:only-of-type {\n",
       "        vertical-align: middle;\n",
       "    }\n",
       "\n",
       "    .dataframe tbody tr th {\n",
       "        vertical-align: top;\n",
       "    }\n",
       "\n",
       "    .dataframe thead th {\n",
       "        text-align: right;\n",
       "    }\n",
       "</style>\n",
       "<table border=\"1\" class=\"dataframe\">\n",
       "  <thead>\n",
       "    <tr style=\"text-align: right;\">\n",
       "      <th></th>\n",
       "      <th>date</th>\n",
       "      <th>cloud_cover</th>\n",
       "      <th>sunshine</th>\n",
       "      <th>global_radiation</th>\n",
       "      <th>max_temp</th>\n",
       "      <th>mean_temp</th>\n",
       "      <th>min_temp</th>\n",
       "      <th>precipitation</th>\n",
       "      <th>pressure</th>\n",
       "      <th>snow_depth</th>\n",
       "    </tr>\n",
       "  </thead>\n",
       "  <tbody>\n",
       "    <tr>\n",
       "      <th>0</th>\n",
       "      <td>19790101</td>\n",
       "      <td>2.0</td>\n",
       "      <td>7.0</td>\n",
       "      <td>52.0</td>\n",
       "      <td>2.3</td>\n",
       "      <td>-4.1</td>\n",
       "      <td>-7.5</td>\n",
       "      <td>0.4</td>\n",
       "      <td>101900.0</td>\n",
       "      <td>9.0</td>\n",
       "    </tr>\n",
       "    <tr>\n",
       "      <th>1</th>\n",
       "      <td>19790102</td>\n",
       "      <td>6.0</td>\n",
       "      <td>1.7</td>\n",
       "      <td>27.0</td>\n",
       "      <td>1.6</td>\n",
       "      <td>-2.6</td>\n",
       "      <td>-7.5</td>\n",
       "      <td>0.0</td>\n",
       "      <td>102530.0</td>\n",
       "      <td>8.0</td>\n",
       "    </tr>\n",
       "    <tr>\n",
       "      <th>2</th>\n",
       "      <td>19790103</td>\n",
       "      <td>5.0</td>\n",
       "      <td>0.0</td>\n",
       "      <td>13.0</td>\n",
       "      <td>1.3</td>\n",
       "      <td>-2.8</td>\n",
       "      <td>-7.2</td>\n",
       "      <td>0.0</td>\n",
       "      <td>102050.0</td>\n",
       "      <td>4.0</td>\n",
       "    </tr>\n",
       "    <tr>\n",
       "      <th>3</th>\n",
       "      <td>19790104</td>\n",
       "      <td>8.0</td>\n",
       "      <td>0.0</td>\n",
       "      <td>13.0</td>\n",
       "      <td>-0.3</td>\n",
       "      <td>-2.6</td>\n",
       "      <td>-6.5</td>\n",
       "      <td>0.0</td>\n",
       "      <td>100840.0</td>\n",
       "      <td>2.0</td>\n",
       "    </tr>\n",
       "    <tr>\n",
       "      <th>4</th>\n",
       "      <td>19790105</td>\n",
       "      <td>6.0</td>\n",
       "      <td>2.0</td>\n",
       "      <td>29.0</td>\n",
       "      <td>5.6</td>\n",
       "      <td>-0.8</td>\n",
       "      <td>-1.4</td>\n",
       "      <td>0.0</td>\n",
       "      <td>102250.0</td>\n",
       "      <td>1.0</td>\n",
       "    </tr>\n",
       "    <tr>\n",
       "      <th>...</th>\n",
       "      <td>...</td>\n",
       "      <td>...</td>\n",
       "      <td>...</td>\n",
       "      <td>...</td>\n",
       "      <td>...</td>\n",
       "      <td>...</td>\n",
       "      <td>...</td>\n",
       "      <td>...</td>\n",
       "      <td>...</td>\n",
       "      <td>...</td>\n",
       "    </tr>\n",
       "    <tr>\n",
       "      <th>15336</th>\n",
       "      <td>20201227</td>\n",
       "      <td>1.0</td>\n",
       "      <td>0.9</td>\n",
       "      <td>32.0</td>\n",
       "      <td>7.5</td>\n",
       "      <td>7.5</td>\n",
       "      <td>7.6</td>\n",
       "      <td>2.0</td>\n",
       "      <td>98000.0</td>\n",
       "      <td>NaN</td>\n",
       "    </tr>\n",
       "    <tr>\n",
       "      <th>15337</th>\n",
       "      <td>20201228</td>\n",
       "      <td>7.0</td>\n",
       "      <td>3.7</td>\n",
       "      <td>38.0</td>\n",
       "      <td>3.6</td>\n",
       "      <td>1.1</td>\n",
       "      <td>-1.3</td>\n",
       "      <td>0.2</td>\n",
       "      <td>97370.0</td>\n",
       "      <td>NaN</td>\n",
       "    </tr>\n",
       "    <tr>\n",
       "      <th>15338</th>\n",
       "      <td>20201229</td>\n",
       "      <td>7.0</td>\n",
       "      <td>0.0</td>\n",
       "      <td>21.0</td>\n",
       "      <td>4.1</td>\n",
       "      <td>2.6</td>\n",
       "      <td>1.1</td>\n",
       "      <td>0.0</td>\n",
       "      <td>98830.0</td>\n",
       "      <td>NaN</td>\n",
       "    </tr>\n",
       "    <tr>\n",
       "      <th>15339</th>\n",
       "      <td>20201230</td>\n",
       "      <td>6.0</td>\n",
       "      <td>0.4</td>\n",
       "      <td>22.0</td>\n",
       "      <td>5.6</td>\n",
       "      <td>2.7</td>\n",
       "      <td>-0.1</td>\n",
       "      <td>0.0</td>\n",
       "      <td>100200.0</td>\n",
       "      <td>NaN</td>\n",
       "    </tr>\n",
       "    <tr>\n",
       "      <th>15340</th>\n",
       "      <td>20201231</td>\n",
       "      <td>7.0</td>\n",
       "      <td>1.3</td>\n",
       "      <td>34.0</td>\n",
       "      <td>1.5</td>\n",
       "      <td>-0.8</td>\n",
       "      <td>-3.1</td>\n",
       "      <td>0.0</td>\n",
       "      <td>100500.0</td>\n",
       "      <td>NaN</td>\n",
       "    </tr>\n",
       "  </tbody>\n",
       "</table>\n",
       "<p>15341 rows × 10 columns</p>\n",
       "</div>"
      ],
      "text/plain": [
       "           date  cloud_cover  sunshine  global_radiation  max_temp  mean_temp  \\\n",
       "0      19790101          2.0       7.0              52.0       2.3       -4.1   \n",
       "1      19790102          6.0       1.7              27.0       1.6       -2.6   \n",
       "2      19790103          5.0       0.0              13.0       1.3       -2.8   \n",
       "3      19790104          8.0       0.0              13.0      -0.3       -2.6   \n",
       "4      19790105          6.0       2.0              29.0       5.6       -0.8   \n",
       "...         ...          ...       ...               ...       ...        ...   \n",
       "15336  20201227          1.0       0.9              32.0       7.5        7.5   \n",
       "15337  20201228          7.0       3.7              38.0       3.6        1.1   \n",
       "15338  20201229          7.0       0.0              21.0       4.1        2.6   \n",
       "15339  20201230          6.0       0.4              22.0       5.6        2.7   \n",
       "15340  20201231          7.0       1.3              34.0       1.5       -0.8   \n",
       "\n",
       "       min_temp  precipitation  pressure  snow_depth  \n",
       "0          -7.5            0.4  101900.0         9.0  \n",
       "1          -7.5            0.0  102530.0         8.0  \n",
       "2          -7.2            0.0  102050.0         4.0  \n",
       "3          -6.5            0.0  100840.0         2.0  \n",
       "4          -1.4            0.0  102250.0         1.0  \n",
       "...         ...            ...       ...         ...  \n",
       "15336       7.6            2.0   98000.0         NaN  \n",
       "15337      -1.3            0.2   97370.0         NaN  \n",
       "15338       1.1            0.0   98830.0         NaN  \n",
       "15339      -0.1            0.0  100200.0         NaN  \n",
       "15340      -3.1            0.0  100500.0         NaN  \n",
       "\n",
       "[15341 rows x 10 columns]"
      ]
     },
     "execution_count": 2,
     "metadata": {},
     "output_type": "execute_result"
    }
   ],
   "source": [
    "import pandas as pd\n",
    "import matplotlib.pyplot as plt\n",
    "import seaborn as sns\n",
    "import matplotlib.ticker as mticks\n",
    "import matplotlib.dates as mdates\n",
    "plt.rcParams['figure.figsize'] = (12,3)\n",
    "\n",
    "url =\"London_Weather_Data/london_weather_MODIFIED - london_weather_MODIFIED.csv\"\n",
    "df = pd.read_csv(url)\n",
    "df"
   ]
  },
  {
   "cell_type": "markdown",
   "id": "97885448",
   "metadata": {},
   "source": [
    "## Begin Data Cleansing"
   ]
  },
  {
   "cell_type": "markdown",
   "id": "1973ef9b",
   "metadata": {},
   "source": [
    "### Convert Date column to DateTime"
   ]
  },
  {
   "cell_type": "code",
   "execution_count": 3,
   "id": "5d19ad68",
   "metadata": {
    "ExecuteTime": {
     "end_time": "2023-02-04T15:20:53.143641Z",
     "start_time": "2023-02-04T15:20:53.100429Z"
    }
   },
   "outputs": [
    {
     "data": {
      "text/plain": [
       "0       1979-01-01\n",
       "1       1979-01-02\n",
       "2       1979-01-03\n",
       "3       1979-01-04\n",
       "4       1979-01-05\n",
       "           ...    \n",
       "15336   2020-12-27\n",
       "15337   2020-12-28\n",
       "15338   2020-12-29\n",
       "15339   2020-12-30\n",
       "15340   2020-12-31\n",
       "Name: date, Length: 15341, dtype: datetime64[ns]"
      ]
     },
     "execution_count": 3,
     "metadata": {},
     "output_type": "execute_result"
    }
   ],
   "source": [
    "# Converting the Date column to a DateTime type\n",
    "df['date'] = pd.to_datetime(df['date'], format='%Y%m%d')\n",
    "df['date']"
   ]
  },
  {
   "cell_type": "markdown",
   "id": "eecab9d5",
   "metadata": {},
   "source": [
    "### Set DateTime as index"
   ]
  },
  {
   "cell_type": "code",
   "execution_count": 4,
   "id": "2092bff6",
   "metadata": {
    "ExecuteTime": {
     "end_time": "2023-02-04T15:20:53.175076Z",
     "start_time": "2023-02-04T15:20:53.145694Z"
    }
   },
   "outputs": [
    {
     "data": {
      "text/html": [
       "<div>\n",
       "<style scoped>\n",
       "    .dataframe tbody tr th:only-of-type {\n",
       "        vertical-align: middle;\n",
       "    }\n",
       "\n",
       "    .dataframe tbody tr th {\n",
       "        vertical-align: top;\n",
       "    }\n",
       "\n",
       "    .dataframe thead th {\n",
       "        text-align: right;\n",
       "    }\n",
       "</style>\n",
       "<table border=\"1\" class=\"dataframe\">\n",
       "  <thead>\n",
       "    <tr style=\"text-align: right;\">\n",
       "      <th></th>\n",
       "      <th>cloud_cover</th>\n",
       "      <th>sunshine</th>\n",
       "      <th>global_radiation</th>\n",
       "      <th>max_temp</th>\n",
       "      <th>mean_temp</th>\n",
       "      <th>min_temp</th>\n",
       "      <th>precipitation</th>\n",
       "      <th>pressure</th>\n",
       "      <th>snow_depth</th>\n",
       "    </tr>\n",
       "    <tr>\n",
       "      <th>date</th>\n",
       "      <th></th>\n",
       "      <th></th>\n",
       "      <th></th>\n",
       "      <th></th>\n",
       "      <th></th>\n",
       "      <th></th>\n",
       "      <th></th>\n",
       "      <th></th>\n",
       "      <th></th>\n",
       "    </tr>\n",
       "  </thead>\n",
       "  <tbody>\n",
       "    <tr>\n",
       "      <th>1979-01-01</th>\n",
       "      <td>2.0</td>\n",
       "      <td>7.0</td>\n",
       "      <td>52.0</td>\n",
       "      <td>2.3</td>\n",
       "      <td>-4.1</td>\n",
       "      <td>-7.5</td>\n",
       "      <td>0.4</td>\n",
       "      <td>101900.0</td>\n",
       "      <td>9.0</td>\n",
       "    </tr>\n",
       "    <tr>\n",
       "      <th>1979-01-02</th>\n",
       "      <td>6.0</td>\n",
       "      <td>1.7</td>\n",
       "      <td>27.0</td>\n",
       "      <td>1.6</td>\n",
       "      <td>-2.6</td>\n",
       "      <td>-7.5</td>\n",
       "      <td>0.0</td>\n",
       "      <td>102530.0</td>\n",
       "      <td>8.0</td>\n",
       "    </tr>\n",
       "    <tr>\n",
       "      <th>1979-01-03</th>\n",
       "      <td>5.0</td>\n",
       "      <td>0.0</td>\n",
       "      <td>13.0</td>\n",
       "      <td>1.3</td>\n",
       "      <td>-2.8</td>\n",
       "      <td>-7.2</td>\n",
       "      <td>0.0</td>\n",
       "      <td>102050.0</td>\n",
       "      <td>4.0</td>\n",
       "    </tr>\n",
       "    <tr>\n",
       "      <th>1979-01-04</th>\n",
       "      <td>8.0</td>\n",
       "      <td>0.0</td>\n",
       "      <td>13.0</td>\n",
       "      <td>-0.3</td>\n",
       "      <td>-2.6</td>\n",
       "      <td>-6.5</td>\n",
       "      <td>0.0</td>\n",
       "      <td>100840.0</td>\n",
       "      <td>2.0</td>\n",
       "    </tr>\n",
       "    <tr>\n",
       "      <th>1979-01-05</th>\n",
       "      <td>6.0</td>\n",
       "      <td>2.0</td>\n",
       "      <td>29.0</td>\n",
       "      <td>5.6</td>\n",
       "      <td>-0.8</td>\n",
       "      <td>-1.4</td>\n",
       "      <td>0.0</td>\n",
       "      <td>102250.0</td>\n",
       "      <td>1.0</td>\n",
       "    </tr>\n",
       "    <tr>\n",
       "      <th>...</th>\n",
       "      <td>...</td>\n",
       "      <td>...</td>\n",
       "      <td>...</td>\n",
       "      <td>...</td>\n",
       "      <td>...</td>\n",
       "      <td>...</td>\n",
       "      <td>...</td>\n",
       "      <td>...</td>\n",
       "      <td>...</td>\n",
       "    </tr>\n",
       "    <tr>\n",
       "      <th>2020-12-27</th>\n",
       "      <td>1.0</td>\n",
       "      <td>0.9</td>\n",
       "      <td>32.0</td>\n",
       "      <td>7.5</td>\n",
       "      <td>7.5</td>\n",
       "      <td>7.6</td>\n",
       "      <td>2.0</td>\n",
       "      <td>98000.0</td>\n",
       "      <td>NaN</td>\n",
       "    </tr>\n",
       "    <tr>\n",
       "      <th>2020-12-28</th>\n",
       "      <td>7.0</td>\n",
       "      <td>3.7</td>\n",
       "      <td>38.0</td>\n",
       "      <td>3.6</td>\n",
       "      <td>1.1</td>\n",
       "      <td>-1.3</td>\n",
       "      <td>0.2</td>\n",
       "      <td>97370.0</td>\n",
       "      <td>NaN</td>\n",
       "    </tr>\n",
       "    <tr>\n",
       "      <th>2020-12-29</th>\n",
       "      <td>7.0</td>\n",
       "      <td>0.0</td>\n",
       "      <td>21.0</td>\n",
       "      <td>4.1</td>\n",
       "      <td>2.6</td>\n",
       "      <td>1.1</td>\n",
       "      <td>0.0</td>\n",
       "      <td>98830.0</td>\n",
       "      <td>NaN</td>\n",
       "    </tr>\n",
       "    <tr>\n",
       "      <th>2020-12-30</th>\n",
       "      <td>6.0</td>\n",
       "      <td>0.4</td>\n",
       "      <td>22.0</td>\n",
       "      <td>5.6</td>\n",
       "      <td>2.7</td>\n",
       "      <td>-0.1</td>\n",
       "      <td>0.0</td>\n",
       "      <td>100200.0</td>\n",
       "      <td>NaN</td>\n",
       "    </tr>\n",
       "    <tr>\n",
       "      <th>2020-12-31</th>\n",
       "      <td>7.0</td>\n",
       "      <td>1.3</td>\n",
       "      <td>34.0</td>\n",
       "      <td>1.5</td>\n",
       "      <td>-0.8</td>\n",
       "      <td>-3.1</td>\n",
       "      <td>0.0</td>\n",
       "      <td>100500.0</td>\n",
       "      <td>NaN</td>\n",
       "    </tr>\n",
       "  </tbody>\n",
       "</table>\n",
       "<p>15341 rows × 9 columns</p>\n",
       "</div>"
      ],
      "text/plain": [
       "            cloud_cover  sunshine  global_radiation  max_temp  mean_temp  \\\n",
       "date                                                                       \n",
       "1979-01-01          2.0       7.0              52.0       2.3       -4.1   \n",
       "1979-01-02          6.0       1.7              27.0       1.6       -2.6   \n",
       "1979-01-03          5.0       0.0              13.0       1.3       -2.8   \n",
       "1979-01-04          8.0       0.0              13.0      -0.3       -2.6   \n",
       "1979-01-05          6.0       2.0              29.0       5.6       -0.8   \n",
       "...                 ...       ...               ...       ...        ...   \n",
       "2020-12-27          1.0       0.9              32.0       7.5        7.5   \n",
       "2020-12-28          7.0       3.7              38.0       3.6        1.1   \n",
       "2020-12-29          7.0       0.0              21.0       4.1        2.6   \n",
       "2020-12-30          6.0       0.4              22.0       5.6        2.7   \n",
       "2020-12-31          7.0       1.3              34.0       1.5       -0.8   \n",
       "\n",
       "            min_temp  precipitation  pressure  snow_depth  \n",
       "date                                                       \n",
       "1979-01-01      -7.5            0.4  101900.0         9.0  \n",
       "1979-01-02      -7.5            0.0  102530.0         8.0  \n",
       "1979-01-03      -7.2            0.0  102050.0         4.0  \n",
       "1979-01-04      -6.5            0.0  100840.0         2.0  \n",
       "1979-01-05      -1.4            0.0  102250.0         1.0  \n",
       "...              ...            ...       ...         ...  \n",
       "2020-12-27       7.6            2.0   98000.0         NaN  \n",
       "2020-12-28      -1.3            0.2   97370.0         NaN  \n",
       "2020-12-29       1.1            0.0   98830.0         NaN  \n",
       "2020-12-30      -0.1            0.0  100200.0         NaN  \n",
       "2020-12-31      -3.1            0.0  100500.0         NaN  \n",
       "\n",
       "[15341 rows x 9 columns]"
      ]
     },
     "execution_count": 4,
     "metadata": {},
     "output_type": "execute_result"
    }
   ],
   "source": [
    "#Establish new dateTime column as Index\n",
    "\n",
    "df = df.set_index('date')\n",
    "df"
   ]
  },
  {
   "cell_type": "code",
   "execution_count": 5,
   "id": "928c2294",
   "metadata": {
    "ExecuteTime": {
     "end_time": "2023-02-04T15:20:53.191126Z",
     "start_time": "2023-02-04T15:20:53.179079Z"
    }
   },
   "outputs": [
    {
     "data": {
      "text/plain": [
       "DatetimeIndex(['1979-01-01', '1979-01-02', '1979-01-03', '1979-01-04',\n",
       "               '1979-01-05', '1979-01-06', '1979-01-07', '1979-01-08',\n",
       "               '1979-01-09', '1979-01-10',\n",
       "               ...\n",
       "               '2020-12-22', '2020-12-23', '2020-12-24', '2020-12-25',\n",
       "               '2020-12-26', '2020-12-27', '2020-12-28', '2020-12-29',\n",
       "               '2020-12-30', '2020-12-31'],\n",
       "              dtype='datetime64[ns]', name='date', length=15341, freq=None)"
      ]
     },
     "execution_count": 5,
     "metadata": {},
     "output_type": "execute_result"
    }
   ],
   "source": [
    "#Verify index creation\n",
    "df.index"
   ]
  },
  {
   "cell_type": "code",
   "execution_count": 6,
   "id": "aa96e7a5",
   "metadata": {
    "ExecuteTime": {
     "end_time": "2023-02-04T15:20:53.222387Z",
     "start_time": "2023-02-04T15:20:53.193076Z"
    }
   },
   "outputs": [
    {
     "data": {
      "text/html": [
       "<div>\n",
       "<style scoped>\n",
       "    .dataframe tbody tr th:only-of-type {\n",
       "        vertical-align: middle;\n",
       "    }\n",
       "\n",
       "    .dataframe tbody tr th {\n",
       "        vertical-align: top;\n",
       "    }\n",
       "\n",
       "    .dataframe thead th {\n",
       "        text-align: right;\n",
       "    }\n",
       "</style>\n",
       "<table border=\"1\" class=\"dataframe\">\n",
       "  <thead>\n",
       "    <tr style=\"text-align: right;\">\n",
       "      <th></th>\n",
       "      <th>Column</th>\n",
       "      <th>dtype</th>\n",
       "      <th># null</th>\n",
       "      <th>null %</th>\n",
       "      <th>nunique</th>\n",
       "      <th>min</th>\n",
       "      <th>max</th>\n",
       "    </tr>\n",
       "  </thead>\n",
       "  <tbody>\n",
       "    <tr>\n",
       "      <th>0</th>\n",
       "      <td>cloud_cover</td>\n",
       "      <td>float64</td>\n",
       "      <td>403</td>\n",
       "      <td>2.626947</td>\n",
       "      <td>10</td>\n",
       "      <td>0.0</td>\n",
       "      <td>9.0</td>\n",
       "    </tr>\n",
       "    <tr>\n",
       "      <th>1</th>\n",
       "      <td>sunshine</td>\n",
       "      <td>float64</td>\n",
       "      <td>384</td>\n",
       "      <td>2.503096</td>\n",
       "      <td>160</td>\n",
       "      <td>0.0</td>\n",
       "      <td>16.0</td>\n",
       "    </tr>\n",
       "    <tr>\n",
       "      <th>2</th>\n",
       "      <td>global_radiation</td>\n",
       "      <td>float64</td>\n",
       "      <td>402</td>\n",
       "      <td>2.620429</td>\n",
       "      <td>358</td>\n",
       "      <td>12.0</td>\n",
       "      <td>402.0</td>\n",
       "    </tr>\n",
       "    <tr>\n",
       "      <th>3</th>\n",
       "      <td>max_temp</td>\n",
       "      <td>float64</td>\n",
       "      <td>390</td>\n",
       "      <td>2.542207</td>\n",
       "      <td>374</td>\n",
       "      <td>-6.2</td>\n",
       "      <td>37.9</td>\n",
       "    </tr>\n",
       "    <tr>\n",
       "      <th>4</th>\n",
       "      <td>mean_temp</td>\n",
       "      <td>float64</td>\n",
       "      <td>419</td>\n",
       "      <td>2.731243</td>\n",
       "      <td>321</td>\n",
       "      <td>-7.6</td>\n",
       "      <td>29.0</td>\n",
       "    </tr>\n",
       "    <tr>\n",
       "      <th>5</th>\n",
       "      <td>min_temp</td>\n",
       "      <td>float64</td>\n",
       "      <td>386</td>\n",
       "      <td>2.516133</td>\n",
       "      <td>296</td>\n",
       "      <td>-11.8</td>\n",
       "      <td>22.3</td>\n",
       "    </tr>\n",
       "    <tr>\n",
       "      <th>6</th>\n",
       "      <td>precipitation</td>\n",
       "      <td>float64</td>\n",
       "      <td>390</td>\n",
       "      <td>2.542207</td>\n",
       "      <td>260</td>\n",
       "      <td>0.0</td>\n",
       "      <td>61.8</td>\n",
       "    </tr>\n",
       "    <tr>\n",
       "      <th>7</th>\n",
       "      <td>pressure</td>\n",
       "      <td>float64</td>\n",
       "      <td>388</td>\n",
       "      <td>2.529170</td>\n",
       "      <td>641</td>\n",
       "      <td>95960.0</td>\n",
       "      <td>104820.0</td>\n",
       "    </tr>\n",
       "    <tr>\n",
       "      <th>8</th>\n",
       "      <td>snow_depth</td>\n",
       "      <td>float64</td>\n",
       "      <td>1752</td>\n",
       "      <td>11.420377</td>\n",
       "      <td>19</td>\n",
       "      <td>0.0</td>\n",
       "      <td>22.0</td>\n",
       "    </tr>\n",
       "  </tbody>\n",
       "</table>\n",
       "</div>"
      ],
      "text/plain": [
       "             Column    dtype  # null     null %  nunique      min       max\n",
       "0       cloud_cover  float64     403   2.626947       10      0.0       9.0\n",
       "1          sunshine  float64     384   2.503096      160      0.0      16.0\n",
       "2  global_radiation  float64     402   2.620429      358     12.0     402.0\n",
       "3          max_temp  float64     390   2.542207      374     -6.2      37.9\n",
       "4         mean_temp  float64     419   2.731243      321     -7.6      29.0\n",
       "5          min_temp  float64     386   2.516133      296    -11.8      22.3\n",
       "6     precipitation  float64     390   2.542207      260      0.0      61.8\n",
       "7          pressure  float64     388   2.529170      641  95960.0  104820.0\n",
       "8        snow_depth  float64    1752  11.420377       19      0.0      22.0"
      ]
     },
     "execution_count": 6,
     "metadata": {},
     "output_type": "execute_result"
    }
   ],
   "source": [
    "#Quick Function for EDA analysis (proper EDA should still be conducted)\n",
    "\n",
    "def summarize_df(df_):\n",
    "    df = df_.copy()\n",
    "    report = pd.DataFrame({\n",
    "        'dtype':df.dtypes,\n",
    "        '# null': df.isna().sum(),\n",
    "        'null %': df.isna().sum()/len(df)*100,\n",
    "        'nunique': df.nunique(),\n",
    "        'min':df.min(),\n",
    "        'max':df.max()        \n",
    "    })\n",
    "    report.index.name='Column'\n",
    "    return report.reset_index()\n",
    "summarize_df(df)"
   ]
  },
  {
   "cell_type": "markdown",
   "id": "d4b2498f",
   "metadata": {},
   "source": [
    "### Keep Only Data from years >=2000 & keep only the following features:\n",
    "precipitation, \n",
    "mean_temp, \n",
    "min_temp, \n",
    "max_temp, \n",
    "snow_depth"
   ]
  },
  {
   "cell_type": "code",
   "execution_count": 7,
   "id": "4eac84f0",
   "metadata": {
    "ExecuteTime": {
     "end_time": "2023-02-04T15:20:53.254165Z",
     "start_time": "2023-02-04T15:20:53.223372Z"
    }
   },
   "outputs": [
    {
     "data": {
      "text/html": [
       "<div>\n",
       "<style scoped>\n",
       "    .dataframe tbody tr th:only-of-type {\n",
       "        vertical-align: middle;\n",
       "    }\n",
       "\n",
       "    .dataframe tbody tr th {\n",
       "        vertical-align: top;\n",
       "    }\n",
       "\n",
       "    .dataframe thead th {\n",
       "        text-align: right;\n",
       "    }\n",
       "</style>\n",
       "<table border=\"1\" class=\"dataframe\">\n",
       "  <thead>\n",
       "    <tr style=\"text-align: right;\">\n",
       "      <th></th>\n",
       "      <th>precipitation</th>\n",
       "      <th>mean_temp</th>\n",
       "      <th>min_temp</th>\n",
       "      <th>max_temp</th>\n",
       "      <th>snow_depth</th>\n",
       "    </tr>\n",
       "    <tr>\n",
       "      <th>date</th>\n",
       "      <th></th>\n",
       "      <th></th>\n",
       "      <th></th>\n",
       "      <th></th>\n",
       "      <th></th>\n",
       "    </tr>\n",
       "  </thead>\n",
       "  <tbody>\n",
       "    <tr>\n",
       "      <th>2000-01-01</th>\n",
       "      <td>0.0</td>\n",
       "      <td>7.0</td>\n",
       "      <td>4.9</td>\n",
       "      <td>10.8</td>\n",
       "      <td>0.0</td>\n",
       "    </tr>\n",
       "    <tr>\n",
       "      <th>2000-01-02</th>\n",
       "      <td>0.2</td>\n",
       "      <td>7.9</td>\n",
       "      <td>5.0</td>\n",
       "      <td>11.5</td>\n",
       "      <td>0.0</td>\n",
       "    </tr>\n",
       "    <tr>\n",
       "      <th>2000-01-03</th>\n",
       "      <td>6.0</td>\n",
       "      <td>9.4</td>\n",
       "      <td>7.2</td>\n",
       "      <td>9.5</td>\n",
       "      <td>0.0</td>\n",
       "    </tr>\n",
       "    <tr>\n",
       "      <th>2000-01-04</th>\n",
       "      <td>0.2</td>\n",
       "      <td>7.0</td>\n",
       "      <td>4.4</td>\n",
       "      <td>11.0</td>\n",
       "      <td>0.0</td>\n",
       "    </tr>\n",
       "    <tr>\n",
       "      <th>2000-01-05</th>\n",
       "      <td>0.8</td>\n",
       "      <td>6.4</td>\n",
       "      <td>1.9</td>\n",
       "      <td>10.8</td>\n",
       "      <td>0.0</td>\n",
       "    </tr>\n",
       "    <tr>\n",
       "      <th>...</th>\n",
       "      <td>...</td>\n",
       "      <td>...</td>\n",
       "      <td>...</td>\n",
       "      <td>...</td>\n",
       "      <td>...</td>\n",
       "    </tr>\n",
       "    <tr>\n",
       "      <th>2020-12-27</th>\n",
       "      <td>2.0</td>\n",
       "      <td>7.5</td>\n",
       "      <td>7.6</td>\n",
       "      <td>7.5</td>\n",
       "      <td>NaN</td>\n",
       "    </tr>\n",
       "    <tr>\n",
       "      <th>2020-12-28</th>\n",
       "      <td>0.2</td>\n",
       "      <td>1.1</td>\n",
       "      <td>-1.3</td>\n",
       "      <td>3.6</td>\n",
       "      <td>NaN</td>\n",
       "    </tr>\n",
       "    <tr>\n",
       "      <th>2020-12-29</th>\n",
       "      <td>0.0</td>\n",
       "      <td>2.6</td>\n",
       "      <td>1.1</td>\n",
       "      <td>4.1</td>\n",
       "      <td>NaN</td>\n",
       "    </tr>\n",
       "    <tr>\n",
       "      <th>2020-12-30</th>\n",
       "      <td>0.0</td>\n",
       "      <td>2.7</td>\n",
       "      <td>-0.1</td>\n",
       "      <td>5.6</td>\n",
       "      <td>NaN</td>\n",
       "    </tr>\n",
       "    <tr>\n",
       "      <th>2020-12-31</th>\n",
       "      <td>0.0</td>\n",
       "      <td>-0.8</td>\n",
       "      <td>-3.1</td>\n",
       "      <td>1.5</td>\n",
       "      <td>NaN</td>\n",
       "    </tr>\n",
       "  </tbody>\n",
       "</table>\n",
       "<p>7671 rows × 5 columns</p>\n",
       "</div>"
      ],
      "text/plain": [
       "            precipitation  mean_temp  min_temp  max_temp  snow_depth\n",
       "date                                                                \n",
       "2000-01-01            0.0        7.0       4.9      10.8         0.0\n",
       "2000-01-02            0.2        7.9       5.0      11.5         0.0\n",
       "2000-01-03            6.0        9.4       7.2       9.5         0.0\n",
       "2000-01-04            0.2        7.0       4.4      11.0         0.0\n",
       "2000-01-05            0.8        6.4       1.9      10.8         0.0\n",
       "...                   ...        ...       ...       ...         ...\n",
       "2020-12-27            2.0        7.5       7.6       7.5         NaN\n",
       "2020-12-28            0.2        1.1      -1.3       3.6         NaN\n",
       "2020-12-29            0.0        2.6       1.1       4.1         NaN\n",
       "2020-12-30            0.0        2.7      -0.1       5.6         NaN\n",
       "2020-12-31            0.0       -0.8      -3.1       1.5         NaN\n",
       "\n",
       "[7671 rows x 5 columns]"
      ]
     },
     "execution_count": 7,
     "metadata": {},
     "output_type": "execute_result"
    }
   ],
   "source": [
    "df = df.loc['2000':, ['precipitation', 'mean_temp', 'min_temp', \n",
    "                      'max_temp', 'snow_depth']]\n",
    "\n",
    "df"
   ]
  },
  {
   "cell_type": "markdown",
   "id": "0fd55d12",
   "metadata": {},
   "source": [
    "### Impute any Missing Values"
   ]
  },
  {
   "cell_type": "code",
   "execution_count": 8,
   "id": "c8287b58",
   "metadata": {
    "ExecuteTime": {
     "end_time": "2023-02-04T15:20:53.269875Z",
     "start_time": "2023-02-04T15:20:53.255598Z"
    }
   },
   "outputs": [
    {
     "data": {
      "text/plain": [
       "precipitation     390\n",
       "mean_temp         419\n",
       "min_temp          386\n",
       "max_temp          390\n",
       "snow_depth       1752\n",
       "dtype: int64"
      ]
     },
     "execution_count": 8,
     "metadata": {},
     "output_type": "execute_result"
    }
   ],
   "source": [
    "# We got a look at missing values in the EDA function above, but let's recheck our counts:\n",
    "\n",
    "df.isna().sum()"
   ]
  },
  {
   "cell_type": "markdown",
   "id": "345a06ce",
   "metadata": {},
   "source": [
    "Before imputing values, we need to consider the most appropriate method.\n",
    "\n",
    "I see two distinct categories present:\n",
    "\n",
    "mean_temp, min_temp, and max_temp which should all follow an interpolation method as temperatures gradually adjust instead of large stochastic swings between values.\n",
    "\n",
    "Alternately, the precipitation and snow_depth values are likely optimized by filling with 0.  The rationale being if either of these values is measurable, the value would be non-zero; else it would be reasonably an unmeasurable (0) value.\n",
    "\n",
    "I will be applying these methods."
   ]
  },
  {
   "cell_type": "code",
   "execution_count": 9,
   "id": "4150650d",
   "metadata": {
    "ExecuteTime": {
     "end_time": "2023-02-04T15:20:53.285589Z",
     "start_time": "2023-02-04T15:20:53.273431Z"
    }
   },
   "outputs": [],
   "source": [
    "# Adjust missing temp values with interpolation\n",
    "df['mean_temp'] = df['mean_temp'].interpolate()\n",
    "df['min_temp'] = df['min_temp'].interpolate()\n",
    "df['max_temp'] = df['max_temp'].interpolate()\n"
   ]
  },
  {
   "cell_type": "code",
   "execution_count": 10,
   "id": "0883fc4d",
   "metadata": {
    "ExecuteTime": {
     "end_time": "2023-02-04T15:20:53.300908Z",
     "start_time": "2023-02-04T15:20:53.287830Z"
    }
   },
   "outputs": [
    {
     "data": {
      "text/plain": [
       "precipitation     390\n",
       "mean_temp           0\n",
       "min_temp            0\n",
       "max_temp            0\n",
       "snow_depth       1752\n",
       "dtype: int64"
      ]
     },
     "execution_count": 10,
     "metadata": {},
     "output_type": "execute_result"
    }
   ],
   "source": [
    "# Verify no remaining null values in temp features:\n",
    "\n",
    "df.isna().sum()"
   ]
  },
  {
   "cell_type": "code",
   "execution_count": 11,
   "id": "dad61c8a",
   "metadata": {
    "ExecuteTime": {
     "end_time": "2023-02-04T15:20:53.315966Z",
     "start_time": "2023-02-04T15:20:53.307484Z"
    }
   },
   "outputs": [],
   "source": [
    "# Eliminate null values in preciptation & snow features by filling with 0\n",
    "df['precipitation'] = df['precipitation'].fillna(0)\n",
    "df['snow_depth'] = df['snow_depth'].fillna(0)"
   ]
  },
  {
   "cell_type": "code",
   "execution_count": 12,
   "id": "6405da1a",
   "metadata": {
    "ExecuteTime": {
     "end_time": "2023-02-04T15:20:53.332041Z",
     "start_time": "2023-02-04T15:20:53.317962Z"
    }
   },
   "outputs": [
    {
     "data": {
      "text/plain": [
       "precipitation    0\n",
       "mean_temp        0\n",
       "min_temp         0\n",
       "max_temp         0\n",
       "snow_depth       0\n",
       "dtype: int64"
      ]
     },
     "execution_count": 12,
     "metadata": {},
     "output_type": "execute_result"
    }
   ],
   "source": [
    "# Verify no remaining null values in precipitation and snow features:\n",
    "\n",
    "df.isna().sum()"
   ]
  },
  {
   "cell_type": "markdown",
   "id": "61581ea8",
   "metadata": {},
   "source": [
    "So far we have converted the date category to DateTime type, assigned it as our index, eliminated the features that we did not need (cloud_cover, sunshine, global_radiation, and pressure),and removed any null values from remaining features.  We are ready to begin answering questions about our data."
   ]
  },
  {
   "cell_type": "code",
   "execution_count": null,
   "id": "465200a5",
   "metadata": {},
   "outputs": [],
   "source": []
  },
  {
   "cell_type": "markdown",
   "id": "c49b3580",
   "metadata": {},
   "source": [
    "## Answer Questions about data"
   ]
  },
  {
   "cell_type": "markdown",
   "id": "32d43782",
   "metadata": {},
   "source": [
    "### Q1: What month had the most precipitation between 2000 through 2010"
   ]
  },
  {
   "cell_type": "code",
   "execution_count": 13,
   "id": "61905f47",
   "metadata": {
    "ExecuteTime": {
     "end_time": "2023-02-04T15:20:53.363535Z",
     "start_time": "2023-02-04T15:20:53.334038Z"
    }
   },
   "outputs": [
    {
     "data": {
      "text/html": [
       "<div>\n",
       "<style scoped>\n",
       "    .dataframe tbody tr th:only-of-type {\n",
       "        vertical-align: middle;\n",
       "    }\n",
       "\n",
       "    .dataframe tbody tr th {\n",
       "        vertical-align: top;\n",
       "    }\n",
       "\n",
       "    .dataframe thead th {\n",
       "        text-align: right;\n",
       "    }\n",
       "</style>\n",
       "<table border=\"1\" class=\"dataframe\">\n",
       "  <thead>\n",
       "    <tr style=\"text-align: right;\">\n",
       "      <th></th>\n",
       "      <th>precipitation</th>\n",
       "      <th>mean_temp</th>\n",
       "      <th>min_temp</th>\n",
       "      <th>max_temp</th>\n",
       "      <th>snow_depth</th>\n",
       "    </tr>\n",
       "    <tr>\n",
       "      <th>date</th>\n",
       "      <th></th>\n",
       "      <th></th>\n",
       "      <th></th>\n",
       "      <th></th>\n",
       "      <th></th>\n",
       "    </tr>\n",
       "  </thead>\n",
       "  <tbody>\n",
       "    <tr>\n",
       "      <th>2000-01-01</th>\n",
       "      <td>0.0</td>\n",
       "      <td>7.0</td>\n",
       "      <td>4.9</td>\n",
       "      <td>10.8</td>\n",
       "      <td>0.0</td>\n",
       "    </tr>\n",
       "    <tr>\n",
       "      <th>2000-01-02</th>\n",
       "      <td>0.2</td>\n",
       "      <td>7.9</td>\n",
       "      <td>5.0</td>\n",
       "      <td>11.5</td>\n",
       "      <td>0.0</td>\n",
       "    </tr>\n",
       "    <tr>\n",
       "      <th>2000-01-03</th>\n",
       "      <td>6.0</td>\n",
       "      <td>9.4</td>\n",
       "      <td>7.2</td>\n",
       "      <td>9.5</td>\n",
       "      <td>0.0</td>\n",
       "    </tr>\n",
       "    <tr>\n",
       "      <th>2000-01-04</th>\n",
       "      <td>0.2</td>\n",
       "      <td>7.0</td>\n",
       "      <td>4.4</td>\n",
       "      <td>11.0</td>\n",
       "      <td>0.0</td>\n",
       "    </tr>\n",
       "    <tr>\n",
       "      <th>2000-01-05</th>\n",
       "      <td>0.8</td>\n",
       "      <td>6.4</td>\n",
       "      <td>1.9</td>\n",
       "      <td>10.8</td>\n",
       "      <td>0.0</td>\n",
       "    </tr>\n",
       "    <tr>\n",
       "      <th>...</th>\n",
       "      <td>...</td>\n",
       "      <td>...</td>\n",
       "      <td>...</td>\n",
       "      <td>...</td>\n",
       "      <td>...</td>\n",
       "    </tr>\n",
       "    <tr>\n",
       "      <th>2020-12-27</th>\n",
       "      <td>2.0</td>\n",
       "      <td>7.5</td>\n",
       "      <td>7.6</td>\n",
       "      <td>7.5</td>\n",
       "      <td>0.0</td>\n",
       "    </tr>\n",
       "    <tr>\n",
       "      <th>2020-12-28</th>\n",
       "      <td>0.2</td>\n",
       "      <td>1.1</td>\n",
       "      <td>-1.3</td>\n",
       "      <td>3.6</td>\n",
       "      <td>0.0</td>\n",
       "    </tr>\n",
       "    <tr>\n",
       "      <th>2020-12-29</th>\n",
       "      <td>0.0</td>\n",
       "      <td>2.6</td>\n",
       "      <td>1.1</td>\n",
       "      <td>4.1</td>\n",
       "      <td>0.0</td>\n",
       "    </tr>\n",
       "    <tr>\n",
       "      <th>2020-12-30</th>\n",
       "      <td>0.0</td>\n",
       "      <td>2.7</td>\n",
       "      <td>-0.1</td>\n",
       "      <td>5.6</td>\n",
       "      <td>0.0</td>\n",
       "    </tr>\n",
       "    <tr>\n",
       "      <th>2020-12-31</th>\n",
       "      <td>0.0</td>\n",
       "      <td>-0.8</td>\n",
       "      <td>-3.1</td>\n",
       "      <td>1.5</td>\n",
       "      <td>0.0</td>\n",
       "    </tr>\n",
       "  </tbody>\n",
       "</table>\n",
       "<p>7671 rows × 5 columns</p>\n",
       "</div>"
      ],
      "text/plain": [
       "            precipitation  mean_temp  min_temp  max_temp  snow_depth\n",
       "date                                                                \n",
       "2000-01-01            0.0        7.0       4.9      10.8         0.0\n",
       "2000-01-02            0.2        7.9       5.0      11.5         0.0\n",
       "2000-01-03            6.0        9.4       7.2       9.5         0.0\n",
       "2000-01-04            0.2        7.0       4.4      11.0         0.0\n",
       "2000-01-05            0.8        6.4       1.9      10.8         0.0\n",
       "...                   ...        ...       ...       ...         ...\n",
       "2020-12-27            2.0        7.5       7.6       7.5         0.0\n",
       "2020-12-28            0.2        1.1      -1.3       3.6         0.0\n",
       "2020-12-29            0.0        2.6       1.1       4.1         0.0\n",
       "2020-12-30            0.0        2.7      -0.1       5.6         0.0\n",
       "2020-12-31            0.0       -0.8      -3.1       1.5         0.0\n",
       "\n",
       "[7671 rows x 5 columns]"
      ]
     },
     "execution_count": 13,
     "metadata": {},
     "output_type": "execute_result"
    }
   ],
   "source": [
    "df"
   ]
  },
  {
   "cell_type": "code",
   "execution_count": 14,
   "id": "ca1b6eac",
   "metadata": {
    "ExecuteTime": {
     "end_time": "2023-02-04T15:20:53.379585Z",
     "start_time": "2023-02-04T15:20:53.365535Z"
    }
   },
   "outputs": [
    {
     "data": {
      "text/plain": [
       "date\n",
       "2000-01-01    0.0\n",
       "2000-01-02    0.2\n",
       "2000-01-03    6.0\n",
       "2000-01-04    0.2\n",
       "2000-01-05    0.8\n",
       "             ... \n",
       "2010-12-27    5.0\n",
       "2010-12-28    0.4\n",
       "2010-12-29    1.4\n",
       "2010-12-30    0.0\n",
       "2010-12-31    0.0\n",
       "Name: precipitation, Length: 4018, dtype: float64"
      ]
     },
     "execution_count": 14,
     "metadata": {},
     "output_type": "execute_result"
    }
   ],
   "source": [
    "# Create a temporary dataframe .\n",
    "\n",
    "precip_df = df.loc['2000':'2010', 'precipitation'].copy()\n",
    "\n",
    "precip_df"
   ]
  },
  {
   "cell_type": "code",
   "execution_count": 15,
   "id": "a925f5de",
   "metadata": {
    "ExecuteTime": {
     "end_time": "2023-02-04T15:21:00.062240Z",
     "start_time": "2023-02-04T15:20:53.382053Z"
    }
   },
   "outputs": [
    {
     "name": "stdout",
     "output_type": "stream",
     "text": [
      "# packages in environment at C:\\Users\\staichn\\Anaconda3\\envs\\dojo-env:\n",
      "#\n",
      "# Name                    Version                   Build  Channel\n",
      "_py-xgboost-mutex         2.0                       cpu_0    conda-forge\n",
      "_tflow_select             2.3.0                       mkl  \n",
      "abseil-cpp                20211102.0           h7e5c4e1_2    conda-forge\n",
      "absl-py                   1.3.0              pyhd8ed1ab_0    conda-forge\n",
      "aiohttp                   3.8.3            py39ha55989b_1    conda-forge\n",
      "aiosignal                 1.2.0              pyhd8ed1ab_0    conda-forge\n",
      "anyio                     3.5.0            py39hcbf5309_0    conda-forge\n",
      "argon2-cffi               21.3.0             pyhd8ed1ab_0    conda-forge\n",
      "argon2-cffi-bindings      21.2.0           py39ha55989b_3    conda-forge\n",
      "arrow                     1.2.3              pyhd8ed1ab_0    conda-forge\n",
      "asttokens                 2.0.5              pyhd8ed1ab_0    conda-forge\n",
      "astunparse                1.6.3              pyhd8ed1ab_0    conda-forge\n",
      "async-timeout             4.0.2              pyhd8ed1ab_0    conda-forge\n",
      "attrs                     22.1.0             pyh71513ae_1    conda-forge\n",
      "babel                     2.9.1              pyh44b312d_0    conda-forge\n",
      "backcall                  0.2.0              pyh9f0ad1d_0    conda-forge\n",
      "backports                 1.0                pyhd8ed1ab_3    conda-forge\n",
      "backports.functools_lru_cache 1.6.4              pyhd8ed1ab_0    conda-forge\n",
      "bcrypt                    3.2.0            py39hb82d6ee_3    conda-forge\n",
      "beautifulsoup4            4.11.1             pyha770c72_0    conda-forge\n",
      "blas                      1.0                         mkl    conda-forge\n",
      "bleach                    4.1.0              pyhd8ed1ab_0    conda-forge\n",
      "blinker                   1.4                        py_1    conda-forge\n",
      "blosc                     1.21.0               h0e60522_0    conda-forge\n",
      "bottleneck                1.3.5            py39hc266a54_1    conda-forge\n",
      "brotli                    1.0.9                hcfcfb64_8    conda-forge\n",
      "brotli-bin                1.0.9                hcfcfb64_8    conda-forge\n",
      "brotlipy                  0.7.0           py39ha55989b_1005    conda-forge\n",
      "bzip2                     1.0.8                h8ffe710_4    conda-forge\n",
      "ca-certificates           2022.10.11           haa95532_0  \n",
      "cachetools                4.2.2              pyhd8ed1ab_0    conda-forge\n",
      "certifi                   2022.9.24          pyhd8ed1ab_0    conda-forge\n",
      "cffi                      1.15.1           py39h68f70e3_3    conda-forge\n",
      "cfitsio                   3.470                h0af3d06_7    conda-forge\n",
      "charls                    2.2.0                h39d44d4_0    conda-forge\n",
      "charset-normalizer        2.0.4              pyhd8ed1ab_0    conda-forge\n",
      "click                     8.0.4            py39hcbf5309_0    conda-forge\n",
      "cloudpickle               2.0.0              pyhd8ed1ab_0    conda-forge\n",
      "colorama                  0.4.5              pyhd8ed1ab_0    conda-forge\n",
      "colour                    0.1.5                      py_0    conda-forge\n",
      "contourpy                 1.0.5            py39h1f6ef14_1    conda-forge\n",
      "cryptography              38.0.1           py39h58e9bdb_0    conda-forge\n",
      "cycler                    0.11.0             pyhd8ed1ab_0    conda-forge\n",
      "cython                    0.29.32          py39h99910a6_1    conda-forge\n",
      "cytoolz                   0.12.0           py39ha55989b_1    conda-forge\n",
      "dask-core                 2022.7.0           pyhd8ed1ab_0    conda-forge\n",
      "dataclasses               0.8                pyhc8e2a94_3    conda-forge\n",
      "dataframe_image           0.1.1                      py_0    conda-forge\n",
      "debugpy                   1.5.1            py39h415ef7b_1    conda-forge\n",
      "decorator                 5.1.1              pyhd8ed1ab_0    conda-forge\n",
      "defusedxml                0.7.1              pyhd8ed1ab_0    conda-forge\n",
      "dython                    0.7.2              pyhd8ed1ab_0    conda-forge\n",
      "entrypoints               0.4                pyhd8ed1ab_0    conda-forge\n",
      "et_xmlfile                1.1.0            py39haa95532_0  \n",
      "executing                 0.8.3              pyhd8ed1ab_0    conda-forge\n",
      "fftw                      3.3.9           nompi_hd3ad3c4_101    conda-forge\n",
      "flatbuffers               2.0.0                h0e60522_0    conda-forge\n",
      "flit-core                 3.6.0              pyhd8ed1ab_0    conda-forge\n",
      "fonttools                 4.25.0             pyhd3eb1b0_0  \n",
      "freetype                  2.12.1               h546665d_0    conda-forge\n",
      "frozenlist                1.3.3            py39ha55989b_0    conda-forge\n",
      "fsspec                    2022.11.0          pyhd8ed1ab_0    conda-forge\n",
      "furl                      2.1.2              pyhd8ed1ab_0    conda-forge\n",
      "gast                      0.5.3              pyhd8ed1ab_0    conda-forge\n",
      "giflib                    5.2.1                h8d14728_2    conda-forge\n",
      "gitdb                     4.0.7              pyhd3eb1b0_0  \n",
      "gitpython                 3.1.18             pyhd8ed1ab_0    conda-forge\n",
      "glib                      2.69.1               h5dc1a3c_2  \n",
      "google-auth               2.6.0              pyh6c4a22f_1    conda-forge\n",
      "google-auth-oauthlib      0.4.4              pyhd8ed1ab_0    conda-forge\n",
      "google-pasta              0.2.0              pyh8c360ce_0    conda-forge\n",
      "greenlet                  2.0.1            py39h99910a6_0    conda-forge\n",
      "grpcio                    1.42.0           py39hb76b349_0    conda-forge\n",
      "gst-plugins-base          1.18.5               h9e645db_0  \n",
      "gstreamer                 1.18.5               hd78058f_0  \n",
      "h5py                      3.7.0            py39h3de5c98_0  \n",
      "hdf5                      1.10.6          nompi_h5268f04_1114    conda-forge\n",
      "html5lib                  1.1                pyh9f0ad1d_0    conda-forge\n",
      "icc_rt                    2022.1.0             h6049295_2  \n",
      "icu                       58.2                 ha925a31_3  \n",
      "idna                      3.4                pyhd8ed1ab_0    conda-forge\n",
      "imagecodecs               2021.8.26        py39hc0a7faf_1  \n",
      "imageio                   2.19.3             pyhcf75d05_0    conda-forge\n",
      "imbalanced-learn          0.10.0             pyhd8ed1ab_0    conda-forge\n",
      "importlib-metadata        4.11.3           py39hcbf5309_1    conda-forge\n",
      "importlib_resources       5.10.2             pyhd8ed1ab_0    conda-forge\n",
      "infinity                  1.5                pyhd8ed1ab_0    conda-forge\n",
      "intel-openmp              2021.4.0          h57928b3_3556    conda-forge\n",
      "intervals                 0.9.2              pyhd8ed1ab_0    conda-forge\n",
      "ipykernel                 6.15.2             pyh025b116_0    conda-forge\n",
      "ipython                   8.6.0              pyh08f2357_1    conda-forge\n",
      "ipython_genutils          0.2.0                      py_1    conda-forge\n",
      "ipywidgets                7.6.5              pyhd8ed1ab_0    conda-forge\n",
      "jedi                      0.18.1             pyhd8ed1ab_2    conda-forge\n",
      "jinja2                    3.1.2              pyhd8ed1ab_1    conda-forge\n",
      "joblib                    1.1.1              pyhd8ed1ab_0    conda-forge\n",
      "jpeg                      9e                   h8ffe710_2    conda-forge\n",
      "json5                     0.9.6              pyhd3eb1b0_0  \n",
      "jsonschema                4.16.0             pyhd8ed1ab_0    conda-forge\n",
      "jupyter                   1.0.0            py39hcbf5309_8    conda-forge\n",
      "jupyter-contrib-core      0.4.2                    pypi_0    pypi\n",
      "jupyter-contrib-nbextensions 0.5.1                    pypi_0    pypi\n",
      "jupyter-highlight-selected-word 0.2.0                    pypi_0    pypi\n",
      "jupyter-latex-envs        1.4.6                    pypi_0    pypi\n",
      "jupyter-nbextensions-configurator 0.6.1                    pypi_0    pypi\n",
      "jupyter-server-mathjax    0.2.6              pyh5bfe37b_1    conda-forge\n",
      "jupyter_client            7.4.7              pyhd8ed1ab_0    conda-forge\n",
      "jupyter_console           6.4.3              pyhd8ed1ab_0    conda-forge\n",
      "jupyter_core              4.11.2           py39hcbf5309_0    conda-forge\n",
      "jupyter_server            1.18.1           py39haa95532_0  \n",
      "jupyterlab                3.5.0              pyhd8ed1ab_0    conda-forge\n",
      "jupyterlab_pygments       0.1.2              pyh9f0ad1d_0    conda-forge\n",
      "jupyterlab_server         2.16.3             pyhd8ed1ab_0    conda-forge\n",
      "jupyterlab_widgets        1.0.0              pyhd8ed1ab_1    conda-forge\n",
      "keras                     2.9.0              pyhd8ed1ab_0    conda-forge\n",
      "keras-preprocessing       1.1.2              pyhd8ed1ab_0    conda-forge\n",
      "kiwisolver                1.4.2            py39h2e07f2f_1    conda-forge\n",
      "krb5                      1.20.1               h6609f42_0    conda-forge\n",
      "lcms2                     2.12                 h2a16943_0    conda-forge\n",
      "lerc                      3.0                  h0e60522_0    conda-forge\n",
      "libabseil-static          20211102.0      cxx11_h253ae9c_2    conda-forge\n",
      "libaec                    1.0.4                h39d44d4_1    conda-forge\n",
      "libblas                   3.9.0              12_win64_mkl    conda-forge\n",
      "libbrotlicommon           1.0.9                hcfcfb64_8    conda-forge\n",
      "libbrotlidec              1.0.9                hcfcfb64_8    conda-forge\n",
      "libbrotlienc              1.0.9                hcfcfb64_8    conda-forge\n",
      "libcblas                  3.9.0              12_win64_mkl    conda-forge\n",
      "libclang                  12.0.0          default_h81446c8_2    conda-forge\n",
      "libcurl                   7.86.0               h68f0423_2    conda-forge\n",
      "libdeflate                1.8                  h8ffe710_0    conda-forge\n",
      "libffi                    3.4.2                h8ffe710_5    conda-forge\n",
      "libiconv                  1.16                 he774522_0    conda-forge\n",
      "liblapack                 3.9.0              12_win64_mkl    conda-forge\n",
      "libogg                    1.3.5                h2bbff1b_1  \n",
      "libpng                    1.6.37               h1d00b33_4    conda-forge\n",
      "libprotobuf               3.20.1               h12be248_4    conda-forge\n",
      "libsodium                 1.0.18               h8d14728_1    conda-forge\n",
      "libsqlite                 3.40.0               hcfcfb64_0    conda-forge\n",
      "libssh2                   1.10.0               h680486a_3    conda-forge\n",
      "libtiff                   4.4.0                h8a3f274_2  \n",
      "libvorbis                 1.3.7                h0e60522_0    conda-forge\n",
      "libwebp                   1.2.4                hcfcfb64_1    conda-forge\n",
      "libwebp-base              1.2.4                h8ffe710_0    conda-forge\n",
      "libxcb                    1.13              hcd874cb_1004    conda-forge\n",
      "libxgboost                1.5.0                h0e60522_1    conda-forge\n",
      "libxml2                   2.9.14               hf5bbc77_4    conda-forge\n",
      "libxslt                   1.1.35               h34f844d_0    conda-forge\n",
      "libzlib                   1.2.13               hcfcfb64_4    conda-forge\n",
      "libzopfli                 1.0.3                h0e60522_0    conda-forge\n",
      "lightgbm                  3.3.3            py39h99910a6_1    conda-forge\n",
      "lime                      0.2.0.1            pyhd8ed1ab_1    conda-forge\n",
      "llvmlite                  0.39.1           py39hd28a505_1    conda-forge\n",
      "locket                    1.0.0              pyhd8ed1ab_0    conda-forge\n",
      "lxml                      4.9.1            py39hb82d6ee_0    conda-forge\n",
      "lz4-c                     1.9.3                h8ffe710_1    conda-forge\n",
      "m2w64-gcc-libgfortran     5.3.0                         6    conda-forge\n",
      "m2w64-gcc-libs            5.3.0                         7    conda-forge\n",
      "m2w64-gcc-libs-core       5.3.0                         7    conda-forge\n",
      "m2w64-gmp                 6.1.0                         2    conda-forge\n",
      "m2w64-libwinpthread-git   5.0.0.4634.697f757               2    conda-forge\n",
      "markdown                  3.3.4              pyhd8ed1ab_0    conda-forge\n",
      "markupsafe                2.1.1            py39ha55989b_2    conda-forge\n",
      "matplotlib                3.6.2            py39hcbf5309_0    conda-forge\n",
      "matplotlib-base           3.6.2            py39haf65ace_0    conda-forge\n",
      "matplotlib-inline         0.1.6              pyhd8ed1ab_0    conda-forge\n",
      "missingno                 0.4.2                      py_1    conda-forge\n",
      "mistune                   0.8.4           pyh1a96a4e_1006    conda-forge\n",
      "mkl                       2021.4.0           h0e2418a_729    conda-forge\n",
      "mkl-service               2.4.0            py39h6b0492b_0    conda-forge\n",
      "mkl_fft                   1.3.1            py39h0cb33c3_1    conda-forge\n",
      "mkl_random                1.2.2            py39h2e25243_0    conda-forge\n",
      "msys2-conda-epoch         20160418                      1    conda-forge\n",
      "multidict                 6.0.2            py39ha55989b_2    conda-forge\n",
      "munkres                   1.1.4              pyh9f0ad1d_0    conda-forge\n",
      "nbclassic                 0.4.8              pyhd8ed1ab_0    conda-forge\n",
      "nbclient                  0.5.13             pyhd8ed1ab_0    conda-forge\n",
      "nbconvert                 6.5.4            py39haa95532_0  \n",
      "nbdime                    3.1.1              pyhd8ed1ab_0    conda-forge\n",
      "nbformat                  5.7.0              pyhd8ed1ab_0    conda-forge\n",
      "nest-asyncio              1.5.5              pyhd8ed1ab_0    conda-forge\n",
      "networkx                  2.8.4              pyhd8ed1ab_0    conda-forge\n",
      "notebook                  6.5.2              pyha770c72_0    conda-forge\n",
      "notebook-shim             0.2.2              pyhd8ed1ab_0    conda-forge\n",
      "numba                     0.56.4           py39h99ae161_0    conda-forge\n",
      "numexpr                   2.8.4            py39h5b0cc5e_0  \n",
      "numpy                     1.23.4           py39h3b20f71_0  \n",
      "numpy-base                1.23.4           py39h4da318b_0  \n",
      "oauthlib                  3.2.1              pyhd8ed1ab_0    conda-forge\n",
      "openjpeg                  2.4.0                hb211442_1    conda-forge\n",
      "openpyxl                  3.0.10           py39ha55989b_2    conda-forge\n",
      "openssl                   1.1.1s               hcfcfb64_1    conda-forge\n",
      "opt_einsum                3.3.0              pyhd8ed1ab_1    conda-forge\n",
      "orderedmultidict          1.0.1                      py_0    conda-forge\n",
      "packaging                 21.3               pyhd8ed1ab_0    conda-forge\n",
      "pandas                    1.5.2            py39h2ba5b7c_2    conda-forge\n",
      "pandas-datareader         0.10.0             pyh6c4a22f_0    conda-forge\n",
      "pandocfilters             1.5.0              pyhd8ed1ab_0    conda-forge\n",
      "parso                     0.8.3              pyhd8ed1ab_0    conda-forge\n",
      "partd                     1.2.0              pyhd8ed1ab_0    conda-forge\n",
      "passlib                   1.7.4              pyh9f0ad1d_0    conda-forge\n",
      "patsy                     0.5.2              pyhd8ed1ab_0    conda-forge\n",
      "pcre                      8.45                 h0e60522_0    conda-forge\n",
      "pendulum                  2.1.2            py39ha55989b_5    conda-forge\n",
      "phonenumbers              8.12.27            pyhd8ed1ab_0    conda-forge\n",
      "pickleshare               0.7.5                   py_1003    conda-forge\n",
      "pillow                    9.2.0            py39ha53f419_1    conda-forge\n",
      "pip                       22.3.1             pyhd8ed1ab_0    conda-forge\n",
      "pkgutil-resolve-name      1.3.10             pyhd8ed1ab_0    conda-forge\n",
      "plotly                    5.11.0                   pypi_0    pypi\n",
      "ply                       3.11                       py_1    conda-forge\n",
      "pmdarima                  1.8.5            py39hb82d6ee_1    conda-forge\n",
      "prometheus_client         0.14.1             pyhd8ed1ab_0    conda-forge\n",
      "prompt-toolkit            3.0.20             pyha770c72_0    conda-forge\n",
      "prompt_toolkit            3.0.20               hd8ed1ab_0    conda-forge\n",
      "protobuf                  3.20.1           py39hcbf5309_0    conda-forge\n",
      "psutil                    5.9.4            py39ha55989b_0    conda-forge\n",
      "pthread-stubs             0.4               hcd874cb_1001    conda-forge\n",
      "pure_eval                 0.2.2              pyhd8ed1ab_0    conda-forge\n",
      "py-xgboost                1.5.0            py39hcbf5309_1    conda-forge\n",
      "pyasn1                    0.4.8                      py_0    conda-forge\n",
      "pyasn1-modules            0.2.8                      py_0  \n",
      "pycparser                 2.21               pyhd8ed1ab_0    conda-forge\n",
      "pygments                  2.11.2             pyhd8ed1ab_0    conda-forge\n",
      "pyjwt                     2.4.0              pyhd8ed1ab_0    conda-forge\n",
      "pymysql                   1.0.2              pyhd8ed1ab_0    conda-forge\n",
      "pyopenssl                 22.0.0             pyhd8ed1ab_1    conda-forge\n",
      "pyparsing                 3.0.9              pyhd8ed1ab_0    conda-forge\n",
      "pyqt                      5.15.7           py39hd77b12b_0  \n",
      "pyqt5-sip                 12.11.0          py39hd77b12b_0  \n",
      "pyrsistent                0.18.0           py39hb82d6ee_0    conda-forge\n",
      "pysocks                   1.7.1              pyh0701188_6    conda-forge\n",
      "python                    3.9.15          h0269646_0_cpython    conda-forge\n",
      "python-dateutil           2.8.2              pyhd8ed1ab_0    conda-forge\n",
      "python-fastjsonschema     2.16.2             pyhd8ed1ab_0    conda-forge\n",
      "python-flatbuffers        2.0                pyhd8ed1ab_0    conda-forge\n",
      "python_abi                3.9                      3_cp39    conda-forge\n",
      "pytz                      2022.1             pyhd8ed1ab_0    conda-forge\n",
      "pytz-deprecation-shim     0.1.0.post0              pypi_0    pypi\n",
      "pytzdata                  2020.1             pyh9f0ad1d_0    conda-forge\n",
      "pyu2f                     0.1.5              pyhd8ed1ab_0    conda-forge\n",
      "pywavelets                1.4.1            py39hc266a54_0    conda-forge\n",
      "pywin32                   305              py39h2bbff1b_0  \n",
      "pywinpty                  2.0.2            py39h99910a6_0    conda-forge\n",
      "pyyaml                    6.0              py39ha55989b_5    conda-forge\n",
      "pyzmq                     23.2.0           py39he46f08e_0    conda-forge\n",
      "qt-main                   5.15.2               he8e5bd7_7  \n",
      "qt-webengine              5.15.9               hb9a9bb5_5  \n",
      "qtconsole                 5.3.2              pyhd8ed1ab_0    conda-forge\n",
      "qtconsole-base            5.3.2              pyha770c72_0    conda-forge\n",
      "qtpy                      2.2.0              pyhd8ed1ab_0    conda-forge\n",
      "qtwebkit                  5.212                h3ad3cdb_4  \n",
      "requests                  2.28.1             pyhd8ed1ab_1    conda-forge\n",
      "requests-oauthlib         1.3.0              pyh9f0ad1d_0    conda-forge\n",
      "rsa                       4.7.2              pyh44b312d_0    conda-forge\n",
      "scikit-image              0.19.3           py39h2ba5b7c_2    conda-forge\n",
      "scikit-learn              1.1.3            py39h6fe01c0_1    conda-forge\n",
      "scikit-plot               0.3.7                      py_1    conda-forge\n",
      "scipy                     1.9.3            py39hfbf2dce_2    conda-forge\n",
      "seaborn                   0.12.1               hd8ed1ab_0    conda-forge\n",
      "seaborn-base              0.12.1             pyhd8ed1ab_0    conda-forge\n",
      "send2trash                1.8.0              pyhd8ed1ab_0    conda-forge\n",
      "setuptools                65.5.0             pyhd8ed1ab_0    conda-forge\n",
      "shap                      0.41.0           py39h2e25243_0    conda-forge\n",
      "sip                       6.6.2            py39h415ef7b_0    conda-forge\n",
      "six                       1.16.0             pyh6c4a22f_0    conda-forge\n",
      "slicer                    0.0.7              pyhd8ed1ab_0    conda-forge\n",
      "smmap                     4.0.0              pyhd8ed1ab_1    conda-forge\n",
      "snappy                    1.1.9                hfb803bf_2    conda-forge\n",
      "sniffio                   1.2.0            py39hcbf5309_3    conda-forge\n",
      "soupsieve                 2.3.2.post1        pyhd8ed1ab_0    conda-forge\n",
      "sqlalchemy                1.4.39           py39hb82d6ee_0    conda-forge\n",
      "sqlalchemy-utils          0.38.3             pyhd8ed1ab_1    conda-forge\n",
      "sqlalchemy-utils-arrow    0.38.3             pyhd8ed1ab_1    conda-forge\n",
      "sqlalchemy-utils-babel    0.38.3             pyhd8ed1ab_1    conda-forge\n",
      "sqlalchemy-utils-base     0.38.3             pyhd8ed1ab_1    conda-forge\n",
      "sqlalchemy-utils-color    0.38.3             pyhd8ed1ab_1    conda-forge\n",
      "sqlalchemy-utils-encrypted 0.38.3             pyhd8ed1ab_1    conda-forge\n",
      "sqlalchemy-utils-intervals 0.38.3             pyhd8ed1ab_1    conda-forge\n",
      "sqlalchemy-utils-password 0.38.3             pyhd8ed1ab_1    conda-forge\n",
      "sqlalchemy-utils-pendulum 0.38.3             pyhd8ed1ab_1    conda-forge\n",
      "sqlalchemy-utils-phone    0.38.3             pyhd8ed1ab_1    conda-forge\n",
      "sqlalchemy-utils-timezone 0.38.3             pyhd8ed1ab_1    conda-forge\n",
      "sqlalchemy-utils-url      0.38.3             pyhd8ed1ab_1    conda-forge\n",
      "sqlite                    3.40.0               hcfcfb64_0    conda-forge\n",
      "stack_data                0.2.0              pyhd8ed1ab_0    conda-forge\n",
      "statsmodels               0.13.2           py39h5d4886f_0    conda-forge\n",
      "tabulate                  0.9.0              pyhd8ed1ab_1    conda-forge\n",
      "tbb                       2021.6.0             h91493d7_1    conda-forge\n",
      "tenacity                  8.1.0                    pypi_0    pypi\n",
      "tensorboard               2.9.0              pyhd8ed1ab_0    conda-forge\n",
      "tensorboard-data-server   0.6.0            py39hcbf5309_3    conda-forge\n",
      "tensorboard-plugin-wit    1.8.1              pyhd8ed1ab_0    conda-forge\n",
      "tensorflow                2.9.1           mkl_py39hc9ebea8_1  \n",
      "tensorflow-base           2.9.1           mkl_py39h6a7f48e_1  \n",
      "tensorflow-estimator      2.9.0            py39haa95532_0  \n",
      "termcolor                 2.1.0              pyhd8ed1ab_0    conda-forge\n",
      "terminado                 0.13.1           py39hcbf5309_0    conda-forge\n",
      "threadpoolctl             2.2.0              pyh8a188c0_0    conda-forge\n",
      "tifffile                  2021.7.2           pyhd8ed1ab_0    conda-forge\n",
      "tinycss2                  1.2.1              pyhd8ed1ab_0    conda-forge\n",
      "tk                        8.6.12               h8ffe710_0    conda-forge\n",
      "toml                      0.10.2             pyhd8ed1ab_0    conda-forge\n",
      "tomli                     2.0.1              pyhd8ed1ab_0    conda-forge\n",
      "toolz                     0.12.0             pyhd8ed1ab_0    conda-forge\n",
      "tornado                   6.2              py39ha55989b_1    conda-forge\n",
      "tqdm                      4.64.1             pyhd8ed1ab_0    conda-forge\n",
      "traitlets                 5.1.1              pyhd8ed1ab_0    conda-forge\n",
      "typing-extensions         4.4.0                hd8ed1ab_0    conda-forge\n",
      "typing_extensions         4.4.0              pyha770c72_0    conda-forge\n",
      "tzdata                    2022.7                   pypi_0    pypi\n",
      "tzlocal                   4.2                      pypi_0    pypi\n",
      "ucrt                      10.0.20348.0         h57928b3_0    conda-forge\n",
      "urllib3                   1.26.13            pyhd8ed1ab_0    conda-forge\n",
      "vc                        14.2                hb210afc_10    conda-forge\n",
      "vs2015_runtime            14.32.31332         h1d6e394_10    conda-forge\n",
      "wcwidth                   0.2.5              pyh9f0ad1d_2    conda-forge\n",
      "webencodings              0.5.1                      py_1    conda-forge\n",
      "websocket-client          0.58.0           py39haa95532_4  \n",
      "werkzeug                  2.0.3              pyhd8ed1ab_1    conda-forge\n",
      "wheel                     0.37.1             pyhd8ed1ab_0    conda-forge\n",
      "widgetsnbextension        3.5.2            py39hcbf5309_1    conda-forge\n",
      "win_inet_pton             1.1.0              pyhd8ed1ab_6    conda-forge\n",
      "wincertstore              0.2             pyhd8ed1ab_1009    conda-forge\n",
      "winpty                    0.4.3                         4    conda-forge\n",
      "wrapt                     1.14.1           py39ha55989b_1    conda-forge\n",
      "xgboost                   1.5.0            py39hcbf5309_1    conda-forge\n",
      "xlsxwriter                3.0.3              pyhd8ed1ab_0    conda-forge\n",
      "xorg-libxau               1.0.9                hcd874cb_0    conda-forge\n",
      "xorg-libxdmcp             1.1.3                hcd874cb_0    conda-forge\n",
      "xz                        5.2.8                h8cc25b3_0  \n",
      "yaml                      0.2.5                h8ffe710_2    conda-forge\n",
      "yarl                      1.8.1            py39ha55989b_0    conda-forge\n",
      "zeromq                    4.3.4                h0e60522_1    conda-forge\n",
      "zfp                       0.5.5                h0e60522_8    conda-forge\n",
      "zipp                      3.8.0              pyhd8ed1ab_0    conda-forge\n",
      "zlib                      1.2.13               hcfcfb64_4    conda-forge\n",
      "zstd                      1.5.2                h12be248_6    conda-forge\n",
      "\n",
      "Note: you may need to restart the kernel to use updated packages.\n"
     ]
    }
   ],
   "source": [
    "%conda list"
   ]
  },
  {
   "cell_type": "code",
   "execution_count": 16,
   "id": "17d5ac92",
   "metadata": {
    "ExecuteTime": {
     "end_time": "2023-02-04T15:21:00.093221Z",
     "start_time": "2023-02-04T15:21:00.064188Z"
    }
   },
   "outputs": [
    {
     "data": {
      "text/plain": [
       "date\n",
       "2000-01-31    0.461290\n",
       "2000-02-29    2.144828\n",
       "2000-03-31    0.432258\n",
       "2000-04-30    2.393333\n",
       "2000-05-31    2.206452\n",
       "Freq: M, Name: Monthly Precipitation Resampled, dtype: float64"
      ]
     },
     "execution_count": 16,
     "metadata": {},
     "output_type": "execute_result"
    }
   ],
   "source": [
    "precip_mth = precip_df.resample('M').mean()\n",
    "precip_mth.name = \"Monthly Precipitation Resampled\"\n",
    "precip_mth.head()\n",
    "\n"
   ]
  },
  {
   "cell_type": "code",
   "execution_count": 17,
   "id": "c2fced02",
   "metadata": {
    "ExecuteTime": {
     "end_time": "2023-02-04T15:21:00.109062Z",
     "start_time": "2023-02-04T15:21:00.094785Z"
    }
   },
   "outputs": [
    {
     "data": {
      "text/plain": [
       "date\n",
       "2010-08-31    2.703226\n",
       "2010-09-30    1.266667\n",
       "2010-10-31    1.967742\n",
       "2010-11-30    0.733333\n",
       "2010-12-31    0.683871\n",
       "Freq: M, Name: Monthly Precipitation Resampled, dtype: float64"
      ]
     },
     "execution_count": 17,
     "metadata": {},
     "output_type": "execute_result"
    }
   ],
   "source": [
    "precip_mth.tail()"
   ]
  },
  {
   "cell_type": "code",
   "execution_count": 18,
   "id": "fc0dd27f",
   "metadata": {
    "ExecuteTime": {
     "end_time": "2023-02-04T15:21:00.124387Z",
     "start_time": "2023-02-04T15:21:00.112337Z"
    }
   },
   "outputs": [
    {
     "data": {
      "text/plain": [
       "date\n",
       "2000-01-31    0.461290\n",
       "2000-02-29    2.144828\n",
       "2000-03-31    0.432258\n",
       "2000-04-30    2.393333\n",
       "2000-05-31    2.206452\n",
       "                ...   \n",
       "2010-08-31    2.703226\n",
       "2010-09-30    1.266667\n",
       "2010-10-31    1.967742\n",
       "2010-11-30    0.733333\n",
       "2010-12-31    0.683871\n",
       "Freq: M, Name: Monthly Precipitation Resampled, Length: 132, dtype: float64"
      ]
     },
     "execution_count": 18,
     "metadata": {},
     "output_type": "execute_result"
    }
   ],
   "source": [
    "precip_mth.sort_index()"
   ]
  },
  {
   "cell_type": "code",
   "execution_count": 19,
   "id": "17ba9b96",
   "metadata": {
    "ExecuteTime": {
     "end_time": "2023-02-04T15:21:00.485994Z",
     "start_time": "2023-02-04T15:21:00.126536Z"
    },
    "scrolled": true
   },
   "outputs": [
    {
     "data": {
      "image/png": "[encoded data removed]",
      "text/plain": [
       "<Figure size 1200x300 with 1 Axes>"
      ]
     },
     "metadata": {},
     "output_type": "display_data"
    }
   ],
   "source": [
    "ax = precip_mth.plot(style='.-', lw=1)"
   ]
  },
  {
   "cell_type": "code",
   "execution_count": 27,
   "id": "e0bfe0f8",
   "metadata": {
    "ExecuteTime": {
     "end_time": "2023-02-04T15:22:00.527277Z",
     "start_time": "2023-02-04T15:22:00.120229Z"
    },
    "scrolled": true
   },
   "outputs": [
    {
     "name": "stderr",
     "output_type": "stream",
     "text": [
      "C:\\Users\\staichn\\AppData\\Local\\Temp\\ipykernel_11632\\4245629241.py:24: UserWarning: FixedFormatter should only be used together with FixedLocator\n",
      "  ax.set_xticklabels(ax.get_xticklabels(),\n"
     ]
    },
    {
     "data": {
      "text/plain": [
       "(<Figure size 1200x400 with 1 Axes>, <AxesSubplot: >)"
      ]
     },
     "execution_count": 27,
     "metadata": {},
     "output_type": "execute_result"
    },
    {
     "data": {
      "image/png": "[encoded data removed]",
      "text/plain": [
       "<Figure size 1200x400 with 1 Axes>"
      ]
     },
     "metadata": {},
     "output_type": "display_data"
    }
   ],
   "source": [
    "def plot_dates(precip_mth,figsize=(12,4),xtick_fontsize='large', xtick_fontweight='bold',\n",
    "               title= None):## Make the fig and axis first\n",
    "\n",
    "    if title is None:\n",
    "        title = precip_mth.name\n",
    "    # plot the time series with pandas\n",
    "    fig, ax = plt.subplots(figsize=figsize)\n",
    "    ax.plot(precip_mth.index, precip_mth.values);\n",
    "\n",
    "    \n",
    "   # precip_mth.plot(ax=ax,title=title);\n",
    "    \n",
    "    ## creating our tick locators and formatters\n",
    "    ## for minor month ticks\n",
    "    # create the locator to place ticks every 3 months.\n",
    "    loc_3months = mdates.MonthLocator(interval=3)\n",
    "    fmt_months = mdates.DateFormatter(\"%b\")\n",
    "    ## for major year ticks\n",
    "    loc_year = mdates.YearLocator()\n",
    "    fmt_year = mdates.DateFormatter(\"%Y\")\n",
    "    \n",
    "    ## Change the font of the major ticks to stand out\n",
    "#     ax.set_xticks(ax.get_xticks())\n",
    "    ax.set_xticklabels(ax.get_xticklabels(), \n",
    "                      fontsize=xtick_fontsize, \n",
    "                      fontweight=xtick_fontweight) \n",
    "    \n",
    "    ## customize minor ticks\n",
    "    ax.xaxis.set_minor_locator(loc_3months)\n",
    "    ax.xaxis.set_minor_formatter(fmt_months)\n",
    "    ## customize major ticks\n",
    "    ax.xaxis.set_major_locator(loc_year)\n",
    "    ax.xaxis.set_major_formatter(fmt_year)\n",
    "    ## Making major/minor gridlines visually distinct\n",
    "    ax.grid(which='minor',axis='x',ls=\":\")\n",
    "    ax.grid(which='major',axis='x',color='k')\n",
    "    ## rotate the dates\n",
    "    fig.autofmt_xdate(which='major',rotation=90,ha='center')\n",
    "    fig.autofmt_xdate(which='minor',rotation=90,ha='center')\n",
    "    return fig,ax\n",
    "\n",
    "plot_dates(precip_mth)"
   ]
  },
  {
   "cell_type": "code",
   "execution_count": 22,
   "id": "680dc8f5",
   "metadata": {
    "ExecuteTime": {
     "end_time": "2023-02-04T15:21:01.481344Z",
     "start_time": "2023-02-04T15:21:01.455248Z"
    },
    "scrolled": true
   },
   "outputs": [
    {
     "data": {
      "text/plain": [
       "date\n",
       "2000-01-31    0.461290\n",
       "2000-02-29    2.144828\n",
       "2000-03-31    0.432258\n",
       "2000-04-30    2.393333\n",
       "2000-05-31    2.206452\n",
       "                ...   \n",
       "2010-08-31    2.703226\n",
       "2010-09-30    1.266667\n",
       "2010-10-31    1.967742\n",
       "2010-11-30    0.733333\n",
       "2010-12-31    0.683871\n",
       "Freq: M, Name: Monthly Precipitation Resampled, Length: 132, dtype: float64"
      ]
     },
     "execution_count": 22,
     "metadata": {},
     "output_type": "execute_result"
    }
   ],
   "source": [
    "#Double check precip_mth to ensure that it is set up correctly...\n",
    "#Confirmed it is from 1/2000 to 12/2010...\n",
    "#something is wrong with the visualization setup...It appears James called out the bug and I missed it.\n",
    "precip_mth"
   ]
  },
  {
   "cell_type": "code",
   "execution_count": 23,
   "id": "8209c492",
   "metadata": {
    "ExecuteTime": {
     "end_time": "2023-02-04T15:21:01.497483Z",
     "start_time": "2023-02-04T15:21:01.485294Z"
    }
   },
   "outputs": [
    {
     "data": {
      "text/plain": [
       "Timestamp('2009-11-30 00:00:00', freq='M')"
      ]
     },
     "execution_count": 23,
     "metadata": {},
     "output_type": "execute_result"
    }
   ],
   "source": [
    "# Confirming the precip max empirically via data and not viz\n",
    "precip_mth.idxmax()"
   ]
  },
  {
   "cell_type": "code",
   "execution_count": 51,
   "id": "a3ace55b",
   "metadata": {
    "ExecuteTime": {
     "end_time": "2023-02-04T17:08:49.795736Z",
     "start_time": "2023-02-04T17:08:49.778699Z"
    }
   },
   "outputs": [
    {
     "data": {
      "text/plain": [
       "4.613333333333333"
      ]
     },
     "execution_count": 51,
     "metadata": {},
     "output_type": "execute_result"
    }
   ],
   "source": [
    "max_precip = precip_mth.max(axis=0)\n",
    "max_precip"
   ]
  },
  {
   "cell_type": "markdown",
   "id": "bd91f2c6",
   "metadata": {},
   "source": [
    "For the period between January 2000 and December 2010, the month of November 2009 had the highest precipitation with 4.6 units."
   ]
  },
  {
   "cell_type": "markdown",
   "id": "99f48e33",
   "metadata": {},
   "source": [
    "## Q2: Which year between 2000-2020 had the coolest average temperature?\n"
   ]
  },
  {
   "cell_type": "code",
   "execution_count": 24,
   "id": "48c0df47",
   "metadata": {
    "ExecuteTime": {
     "end_time": "2023-02-04T15:21:01.528916Z",
     "start_time": "2023-02-04T15:21:01.499871Z"
    }
   },
   "outputs": [
    {
     "data": {
      "text/html": [
       "<div>\n",
       "<style scoped>\n",
       "    .dataframe tbody tr th:only-of-type {\n",
       "        vertical-align: middle;\n",
       "    }\n",
       "\n",
       "    .dataframe tbody tr th {\n",
       "        vertical-align: top;\n",
       "    }\n",
       "\n",
       "    .dataframe thead th {\n",
       "        text-align: right;\n",
       "    }\n",
       "</style>\n",
       "<table border=\"1\" class=\"dataframe\">\n",
       "  <thead>\n",
       "    <tr style=\"text-align: right;\">\n",
       "      <th></th>\n",
       "      <th>precipitation</th>\n",
       "      <th>mean_temp</th>\n",
       "      <th>min_temp</th>\n",
       "      <th>max_temp</th>\n",
       "      <th>snow_depth</th>\n",
       "    </tr>\n",
       "    <tr>\n",
       "      <th>date</th>\n",
       "      <th></th>\n",
       "      <th></th>\n",
       "      <th></th>\n",
       "      <th></th>\n",
       "      <th></th>\n",
       "    </tr>\n",
       "  </thead>\n",
       "  <tbody>\n",
       "    <tr>\n",
       "      <th>2000-01-01</th>\n",
       "      <td>0.0</td>\n",
       "      <td>7.0</td>\n",
       "      <td>4.9</td>\n",
       "      <td>10.8</td>\n",
       "      <td>0.0</td>\n",
       "    </tr>\n",
       "    <tr>\n",
       "      <th>2000-01-02</th>\n",
       "      <td>0.2</td>\n",
       "      <td>7.9</td>\n",
       "      <td>5.0</td>\n",
       "      <td>11.5</td>\n",
       "      <td>0.0</td>\n",
       "    </tr>\n",
       "    <tr>\n",
       "      <th>2000-01-03</th>\n",
       "      <td>6.0</td>\n",
       "      <td>9.4</td>\n",
       "      <td>7.2</td>\n",
       "      <td>9.5</td>\n",
       "      <td>0.0</td>\n",
       "    </tr>\n",
       "    <tr>\n",
       "      <th>2000-01-04</th>\n",
       "      <td>0.2</td>\n",
       "      <td>7.0</td>\n",
       "      <td>4.4</td>\n",
       "      <td>11.0</td>\n",
       "      <td>0.0</td>\n",
       "    </tr>\n",
       "    <tr>\n",
       "      <th>2000-01-05</th>\n",
       "      <td>0.8</td>\n",
       "      <td>6.4</td>\n",
       "      <td>1.9</td>\n",
       "      <td>10.8</td>\n",
       "      <td>0.0</td>\n",
       "    </tr>\n",
       "    <tr>\n",
       "      <th>...</th>\n",
       "      <td>...</td>\n",
       "      <td>...</td>\n",
       "      <td>...</td>\n",
       "      <td>...</td>\n",
       "      <td>...</td>\n",
       "    </tr>\n",
       "    <tr>\n",
       "      <th>2020-12-27</th>\n",
       "      <td>2.0</td>\n",
       "      <td>7.5</td>\n",
       "      <td>7.6</td>\n",
       "      <td>7.5</td>\n",
       "      <td>0.0</td>\n",
       "    </tr>\n",
       "    <tr>\n",
       "      <th>2020-12-28</th>\n",
       "      <td>0.2</td>\n",
       "      <td>1.1</td>\n",
       "      <td>-1.3</td>\n",
       "      <td>3.6</td>\n",
       "      <td>0.0</td>\n",
       "    </tr>\n",
       "    <tr>\n",
       "      <th>2020-12-29</th>\n",
       "      <td>0.0</td>\n",
       "      <td>2.6</td>\n",
       "      <td>1.1</td>\n",
       "      <td>4.1</td>\n",
       "      <td>0.0</td>\n",
       "    </tr>\n",
       "    <tr>\n",
       "      <th>2020-12-30</th>\n",
       "      <td>0.0</td>\n",
       "      <td>2.7</td>\n",
       "      <td>-0.1</td>\n",
       "      <td>5.6</td>\n",
       "      <td>0.0</td>\n",
       "    </tr>\n",
       "    <tr>\n",
       "      <th>2020-12-31</th>\n",
       "      <td>0.0</td>\n",
       "      <td>-0.8</td>\n",
       "      <td>-3.1</td>\n",
       "      <td>1.5</td>\n",
       "      <td>0.0</td>\n",
       "    </tr>\n",
       "  </tbody>\n",
       "</table>\n",
       "<p>7671 rows × 5 columns</p>\n",
       "</div>"
      ],
      "text/plain": [
       "            precipitation  mean_temp  min_temp  max_temp  snow_depth\n",
       "date                                                                \n",
       "2000-01-01            0.0        7.0       4.9      10.8         0.0\n",
       "2000-01-02            0.2        7.9       5.0      11.5         0.0\n",
       "2000-01-03            6.0        9.4       7.2       9.5         0.0\n",
       "2000-01-04            0.2        7.0       4.4      11.0         0.0\n",
       "2000-01-05            0.8        6.4       1.9      10.8         0.0\n",
       "...                   ...        ...       ...       ...         ...\n",
       "2020-12-27            2.0        7.5       7.6       7.5         0.0\n",
       "2020-12-28            0.2        1.1      -1.3       3.6         0.0\n",
       "2020-12-29            0.0        2.6       1.1       4.1         0.0\n",
       "2020-12-30            0.0        2.7      -0.1       5.6         0.0\n",
       "2020-12-31            0.0       -0.8      -3.1       1.5         0.0\n",
       "\n",
       "[7671 rows x 5 columns]"
      ]
     },
     "execution_count": 24,
     "metadata": {},
     "output_type": "execute_result"
    }
   ],
   "source": [
    "df\n"
   ]
  },
  {
   "cell_type": "code",
   "execution_count": 25,
   "id": "2312903c",
   "metadata": {
    "ExecuteTime": {
     "end_time": "2023-02-04T15:21:01.560113Z",
     "start_time": "2023-02-04T15:21:01.534865Z"
    }
   },
   "outputs": [
    {
     "data": {
      "text/html": [
       "<div>\n",
       "<style scoped>\n",
       "    .dataframe tbody tr th:only-of-type {\n",
       "        vertical-align: middle;\n",
       "    }\n",
       "\n",
       "    .dataframe tbody tr th {\n",
       "        vertical-align: top;\n",
       "    }\n",
       "\n",
       "    .dataframe thead th {\n",
       "        text-align: right;\n",
       "    }\n",
       "</style>\n",
       "<table border=\"1\" class=\"dataframe\">\n",
       "  <thead>\n",
       "    <tr style=\"text-align: right;\">\n",
       "      <th></th>\n",
       "      <th>mean_temp</th>\n",
       "    </tr>\n",
       "    <tr>\n",
       "      <th>date</th>\n",
       "      <th></th>\n",
       "    </tr>\n",
       "  </thead>\n",
       "  <tbody>\n",
       "    <tr>\n",
       "      <th>2000-01-01</th>\n",
       "      <td>7.0</td>\n",
       "    </tr>\n",
       "    <tr>\n",
       "      <th>2000-01-02</th>\n",
       "      <td>7.9</td>\n",
       "    </tr>\n",
       "    <tr>\n",
       "      <th>2000-01-03</th>\n",
       "      <td>9.4</td>\n",
       "    </tr>\n",
       "    <tr>\n",
       "      <th>2000-01-04</th>\n",
       "      <td>7.0</td>\n",
       "    </tr>\n",
       "    <tr>\n",
       "      <th>2000-01-05</th>\n",
       "      <td>6.4</td>\n",
       "    </tr>\n",
       "    <tr>\n",
       "      <th>...</th>\n",
       "      <td>...</td>\n",
       "    </tr>\n",
       "    <tr>\n",
       "      <th>2020-12-27</th>\n",
       "      <td>7.5</td>\n",
       "    </tr>\n",
       "    <tr>\n",
       "      <th>2020-12-28</th>\n",
       "      <td>1.1</td>\n",
       "    </tr>\n",
       "    <tr>\n",
       "      <th>2020-12-29</th>\n",
       "      <td>2.6</td>\n",
       "    </tr>\n",
       "    <tr>\n",
       "      <th>2020-12-30</th>\n",
       "      <td>2.7</td>\n",
       "    </tr>\n",
       "    <tr>\n",
       "      <th>2020-12-31</th>\n",
       "      <td>-0.8</td>\n",
       "    </tr>\n",
       "  </tbody>\n",
       "</table>\n",
       "<p>7671 rows × 1 columns</p>\n",
       "</div>"
      ],
      "text/plain": [
       "            mean_temp\n",
       "date                 \n",
       "2000-01-01        7.0\n",
       "2000-01-02        7.9\n",
       "2000-01-03        9.4\n",
       "2000-01-04        7.0\n",
       "2000-01-05        6.4\n",
       "...               ...\n",
       "2020-12-27        7.5\n",
       "2020-12-28        1.1\n",
       "2020-12-29        2.6\n",
       "2020-12-30        2.7\n",
       "2020-12-31       -0.8\n",
       "\n",
       "[7671 rows x 1 columns]"
      ]
     },
     "execution_count": 25,
     "metadata": {},
     "output_type": "execute_result"
    }
   ],
   "source": [
    "# Create a temporary dataframe .\n",
    "\n",
    "min_temp_df = df.loc['2000':'2020', ['mean_temp']].copy()\n",
    "\n",
    "min_temp_df"
   ]
  },
  {
   "cell_type": "code",
   "execution_count": 44,
   "id": "c9be785c",
   "metadata": {
    "ExecuteTime": {
     "end_time": "2023-02-04T15:31:22.333640Z",
     "start_time": "2023-02-04T15:31:22.320523Z"
    }
   },
   "outputs": [
    {
     "data": {
      "text/html": [
       "<div>\n",
       "<style scoped>\n",
       "    .dataframe tbody tr th:only-of-type {\n",
       "        vertical-align: middle;\n",
       "    }\n",
       "\n",
       "    .dataframe tbody tr th {\n",
       "        vertical-align: top;\n",
       "    }\n",
       "\n",
       "    .dataframe thead th {\n",
       "        text-align: right;\n",
       "    }\n",
       "</style>\n",
       "<table border=\"1\" class=\"dataframe\">\n",
       "  <thead>\n",
       "    <tr style=\"text-align: right;\">\n",
       "      <th></th>\n",
       "      <th>mean_temp</th>\n",
       "    </tr>\n",
       "    <tr>\n",
       "      <th>date</th>\n",
       "      <th></th>\n",
       "    </tr>\n",
       "  </thead>\n",
       "  <tbody>\n",
       "    <tr>\n",
       "      <th>2000-12-31</th>\n",
       "      <td>11.575683</td>\n",
       "    </tr>\n",
       "    <tr>\n",
       "      <th>2001-12-31</th>\n",
       "      <td>11.331507</td>\n",
       "    </tr>\n",
       "    <tr>\n",
       "      <th>2002-12-31</th>\n",
       "      <td>12.084247</td>\n",
       "    </tr>\n",
       "    <tr>\n",
       "      <th>2003-12-31</th>\n",
       "      <td>12.114521</td>\n",
       "    </tr>\n",
       "    <tr>\n",
       "      <th>2004-12-31</th>\n",
       "      <td>11.900683</td>\n",
       "    </tr>\n",
       "  </tbody>\n",
       "</table>\n",
       "</div>"
      ],
      "text/plain": [
       "            mean_temp\n",
       "date                 \n",
       "2000-12-31  11.575683\n",
       "2001-12-31  11.331507\n",
       "2002-12-31  12.084247\n",
       "2003-12-31  12.114521\n",
       "2004-12-31  11.900683"
      ]
     },
     "execution_count": 44,
     "metadata": {},
     "output_type": "execute_result"
    }
   ],
   "source": [
    "# Resample the data Resample the data\n",
    "min_temp_yr = min_temp_df.resample('A').mean()\n",
    "min_temp_yr.name = \"Annual Temperatures Resampled\"\n",
    "min_temp_yr.head()"
   ]
  },
  {
   "cell_type": "code",
   "execution_count": 30,
   "id": "d5056bed",
   "metadata": {
    "ExecuteTime": {
     "end_time": "2023-02-04T15:22:58.595198Z",
     "start_time": "2023-02-04T15:22:58.582896Z"
    }
   },
   "outputs": [
    {
     "data": {
      "text/plain": [
       "mean_temp   2010-12-31\n",
       "dtype: datetime64[ns]"
      ]
     },
     "execution_count": 30,
     "metadata": {},
     "output_type": "execute_result"
    }
   ],
   "source": [
    "min_temp_yr.idxmin()"
   ]
  },
  {
   "cell_type": "code",
   "execution_count": 32,
   "id": "c6b2ce8c",
   "metadata": {
    "ExecuteTime": {
     "end_time": "2023-02-04T15:23:09.902218Z",
     "start_time": "2023-02-04T15:23:09.646978Z"
    },
    "scrolled": true
   },
   "outputs": [
    {
     "name": "stderr",
     "output_type": "stream",
     "text": [
      "C:\\Users\\staichn\\AppData\\Local\\Temp\\ipykernel_11632\\4093855538.py:42: UserWarning: FixedFormatter should only be used together with FixedLocator\n",
      "  ax.set_xticklabels(ax.get_xticklabels(),\n"
     ]
    },
    {
     "data": {
      "text/plain": [
       "(<Figure size 1200x400 with 1 Axes>, <AxesSubplot: >)"
      ]
     },
     "execution_count": 32,
     "metadata": {},
     "output_type": "execute_result"
    },
    {
     "data": {
      "image/png": "[encoded data removed]",
      "text/plain": [
       "<Figure size 1200x400 with 1 Axes>"
      ]
     },
     "metadata": {},
     "output_type": "display_data"
    }
   ],
   "source": [
    "#fig, ax = plt.subplots(figsize=(12,3))\n",
    "#max_temp_yr.plot(ax=ax)\n",
    "\n",
    "def plot_dates(min_temp_yr,figsize=(12,4),xtick_fontsize='large', xtick_fontweight='bold',\n",
    "               title= None):## Make the fig and axis first\n",
    "\n",
    "    if title is None:\n",
    "        title = min_temp_yr.name\n",
    "    # plot the time series with pandas\n",
    "    fig, ax = plt.subplots(figsize=figsize)\n",
    "    ax.plot(min_temp_yr.index, min_temp_yr.values, marker='.', lw=1);\n",
    "    #max_temp_yr.plot(ax=ax,title=title, style='.-');\n",
    "    \n",
    "    ## creating our tick locators and formatters\n",
    "    ## for minor month ticks\n",
    "    # create the locator to place ticks every year.\n",
    "    loc_year = mdates.YearLocator()\n",
    "    fmt_year = mdates.DateFormatter(\"%Y\")\n",
    "    ## for major year ticks\n",
    "    loc_5year = mdates.YearLocator(5)\n",
    "    fmt_5year = mdates.DateFormatter(\"%Y\")\n",
    "    \n",
    "    ## Change the font of the major ticks to stand out\n",
    "#     ax.set_xticks(ax.get_xticks())\n",
    "#     ax.set_xticklabels(ax.get_xticklabels(), \n",
    "#                        fontsize=xtick_fontsize, \n",
    "#                        fontweight=xtick_fontweight) \n",
    "    \n",
    "    \n",
    "    ## customize minor ticks\n",
    "    ax.xaxis.set_minor_locator(loc_year)\n",
    "    ax.xaxis.set_minor_formatter(fmt_year)\n",
    "    ## customize major ticks\n",
    "    ax.xaxis.set_major_locator(loc_5year)\n",
    "    ax.xaxis.set_major_formatter(fmt_5year)\n",
    "    ## Making major/minor gridlines visually distinct\n",
    "    ax.grid(which='minor',axis='x',ls=\":\")\n",
    "    ax.grid(which='major',axis='x',color='k')\n",
    "    \n",
    "     ## Change the font of the major ticks to stand out\n",
    "#     ax.set_xticks(ax.get_xticks())\n",
    "    ax.set_xticklabels(ax.get_xticklabels(), \n",
    "                       fontsize=xtick_fontsize, \n",
    "                       fontweight=xtick_fontweight) \n",
    "\n",
    "    ## rotate the dates\n",
    "    fig.autofmt_xdate(which='major',rotation=90,ha='center')\n",
    "    fig.autofmt_xdate(which='minor',rotation=90,ha='center')\n",
    "    return fig,ax\n",
    "\n",
    "plot_dates(min_temp_yr)"
   ]
  },
  {
   "cell_type": "code",
   "execution_count": 33,
   "id": "047d776a",
   "metadata": {
    "ExecuteTime": {
     "end_time": "2023-02-04T15:24:15.872047Z",
     "start_time": "2023-02-04T15:24:15.859121Z"
    },
    "scrolled": true
   },
   "outputs": [
    {
     "data": {
      "text/plain": [
       "mean_temp   2010-12-31\n",
       "dtype: datetime64[ns]"
      ]
     },
     "execution_count": 33,
     "metadata": {},
     "output_type": "execute_result"
    }
   ],
   "source": [
    "# Confirming the min temp empirically via data and not viz\n",
    "min_temp_yr.idxmin()"
   ]
  },
  {
   "cell_type": "code",
   "execution_count": 45,
   "id": "4254f353",
   "metadata": {
    "ExecuteTime": {
     "end_time": "2023-02-04T15:33:41.172756Z",
     "start_time": "2023-02-04T15:33:41.160815Z"
    }
   },
   "outputs": [
    {
     "data": {
      "text/plain": [
       "mean_temp    10.657397\n",
       "dtype: float64"
      ]
     },
     "execution_count": 45,
     "metadata": {},
     "output_type": "execute_result"
    }
   ],
   "source": [
    "low_temp = min_temp_yr.min(axis=0)\n",
    "low_temp"
   ]
  },
  {
   "cell_type": "markdown",
   "id": "d988ca36",
   "metadata": {},
   "source": [
    " According to the data, 2010 had the coldest mean temperatures throughout the year with an mean temperature of 10.7 degrees."
   ]
  }
 ],
 "metadata": {
  "kernelspec": {
   "display_name": "Python (dojo-env)",
   "language": "python",
   "name": "dojo-env"
  },
  "language_info": {
   "codemirror_mode": {
    "name": "ipython",
    "version": 3
   },
   "file_extension": ".py",
   "mimetype": "text/x-python",
   "name": "python",
   "nbconvert_exporter": "python",
   "pygments_lexer": "ipython3",
   "version": "3.9.15"
  },
  "toc": {
   "base_numbering": 1,
   "nav_menu": {},
   "number_sections": false,
   "sideBar": true,
   "skip_h1_title": false,
   "title_cell": "Table of Contents",
   "title_sidebar": "Contents",
   "toc_cell": false,
   "toc_position": {},
   "toc_section_display": true,
   "toc_window_display": false
  }
 },
 "nbformat": 4,
 "nbformat_minor": 5
}
